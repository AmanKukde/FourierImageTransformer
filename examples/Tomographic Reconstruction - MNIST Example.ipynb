{
 "cells": [
  {
   "cell_type": "code",
   "execution_count": 1,
   "metadata": {},
   "outputs": [],
   "source": [
    "from fit.datamodules.tomo_rec import MNIST_TRecFITDM\n",
    "from fit.utils.tomo_utils import get_polar_rfft_coords_2D, get_polar_rfft_coords_sinogram\n",
    "from fit.utils import denormalize, convert2DFT\n",
    "from fit.modules import TRecTransformerModule\n",
    "\n",
    "from matplotlib import pyplot as plt\n",
    "\n",
    "import torch\n",
    "\n",
    "import numpy as np\n",
    "\n",
    "from pytorch_lightning import Trainer, seed_everything\n",
    "from pytorch_lightning.callbacks import ModelCheckpoint\n",
    "\n",
    "import wget\n",
    "from os.path import exists"
   ]
  },
  {
   "cell_type": "code",
   "execution_count": 2,
   "metadata": {},
   "outputs": [
    {
     "name": "stderr",
     "output_type": "stream",
     "text": [
      "Global seed set to 22122020\n"
     ]
    },
    {
     "data": {
      "text/plain": [
       "22122020"
      ]
     },
     "execution_count": 2,
     "metadata": {},
     "output_type": "execute_result"
    }
   ],
   "source": [
    "seed_everything(22122020)"
   ]
  },
  {
   "cell_type": "code",
   "execution_count": 3,
   "metadata": {},
   "outputs": [],
   "source": [
    "dm = MNIST_TRecFITDM(root_dir='./datamodules/data/', batch_size=32, num_angles=7)\n",
    "# FIT: TRec + FBP vs FIT: TRec\n",
    "with_fbp = False\n",
    "\n",
    "dm.prepare_data()\n",
    "dm.setup()"
   ]
  },
  {
   "cell_type": "code",
   "execution_count": 4,
   "metadata": {},
   "outputs": [],
   "source": [
    "angles = dm.gt_ds.get_ray_trafo().geometry.angles\n",
    "det_len = dm.gt_ds.get_ray_trafo().geometry.detector.shape[0]"
   ]
  },
  {
   "cell_type": "code",
   "execution_count": 5,
   "metadata": {},
   "outputs": [],
   "source": [
    "img_shape = dm.gt_shape"
   ]
  },
  {
   "cell_type": "code",
   "execution_count": 6,
   "metadata": {},
   "outputs": [],
   "source": [
    "proj_r, proj_phi, src_flatten = get_polar_rfft_coords_sinogram(angles=angles, \n",
    "                                                               det_len=det_len)\n",
    "target_r, target_phi, dst_flatten, order = get_polar_rfft_coords_2D(img_shape=img_shape)"
   ]
  },
  {
   "cell_type": "code",
   "execution_count": 7,
   "metadata": {},
   "outputs": [],
   "source": [
    "n_heads = 8\n",
    "d_query = 32\n",
    "model = TRecTransformerModule(d_model=n_heads * d_query, \n",
    "                              sinogram_coords=(proj_r, proj_phi),\n",
    "                              target_coords=(target_r, target_phi),\n",
    "                              src_flatten_coords=src_flatten, \n",
    "                              dst_flatten_coords=dst_flatten, \n",
    "                              dst_order=order,\n",
    "                              angles=angles, \n",
    "                              img_shape=img_shape,\n",
    "                              detector_len=det_len,\n",
    "                              loss='prod', \n",
    "                              use_fbp=with_fbp, \n",
    "                              init_bin_factor=1, \n",
    "                              bin_factor_cd=5,\n",
    "                              lr=0.0001, \n",
    "                              weight_decay=0.01, \n",
    "                              attention_type='linear', \n",
    "                              n_layers=4,\n",
    "                              n_heads=n_heads, \n",
    "                              d_query=d_query, \n",
    "                              dropout=0.1, \n",
    "                              attention_dropout=0.1)"
   ]
  },
  {
   "cell_type": "code",
   "execution_count": 8,
   "metadata": {
    "scrolled": false
   },
   "outputs": [
    {
     "name": "stderr",
     "output_type": "stream",
     "text": [
      "GPU available: True, used: True\n",
      "TPU available: False, using: 0 TPU cores\n"
     ]
    }
   ],
   "source": [
    "trainer = Trainer(max_epochs=300, \n",
    "                  gpus=1,\n",
    "                  checkpoint_callback=ModelCheckpoint(\n",
    "                                            dirpath=None,\n",
    "                                            save_top_k=1,\n",
    "                                            verbose=False,\n",
    "                                            save_last=True,\n",
    "                                            monitor='Train/avg_val_mse',\n",
    "                                            mode='min',\n",
    "                                            prefix='best_val_loss_'\n",
    "                                        ), \n",
    "                  deterministic=True)"
   ]
  },
  {
   "cell_type": "code",
   "execution_count": 9,
   "metadata": {},
   "outputs": [],
   "source": [
    "# Uncomment the next line if you want to train your own model. \n",
    "# trainer.fit(model, datamodule=dm);"
   ]
  },
  {
   "cell_type": "code",
   "execution_count": 10,
   "metadata": {},
   "outputs": [],
   "source": [
    "if not exists('./models/trec_mnist/mnist_trec.ckpt'):\n",
    "    wget.download('https://cloud.mpi-cbg.de/index.php/s/CWzpaYelI3lgkb8/download',\n",
    "                  out='./models/trec_mnist/mnist_trec.ckpt')\n",
    "    \n",
    "if not exists('./models/trec_mnist/mnist_trec_fbp.ckpt'):\n",
    "    wget.download('https://cloud.mpi-cbg.de/index.php/s/gHkhiuvqO90amdc/download',\n",
    "                  out='./models/trec_mnist/mnist_trec_fbp.ckpt')"
   ]
  },
  {
   "cell_type": "code",
   "execution_count": 11,
   "metadata": {},
   "outputs": [],
   "source": [
    "if with_fbp:\n",
    "    path = './models/trec_mnist/mnist_trec_fbp.ckpt'\n",
    "else:\n",
    "    path = './models/trec_mnist/mnist_trec.ckpt'"
   ]
  },
  {
   "cell_type": "code",
   "execution_count": 12,
   "metadata": {},
   "outputs": [],
   "source": [
    "model = TRecTransformerModule.load_from_checkpoint(path, \n",
    "                                               sinogram_coords=(proj_r, proj_phi),\n",
    "                              target_coords=(target_r, target_phi),\n",
    "                              src_flatten_coords=src_flatten, \n",
    "                              dst_flatten_coords=dst_flatten, \n",
    "                              dst_order=order, angles=angles, strict=False)"
   ]
  },
  {
   "cell_type": "code",
   "execution_count": 13,
   "metadata": {
    "scrolled": true
   },
   "outputs": [
    {
     "name": "stderr",
     "output_type": "stream",
     "text": [
      "LOCAL_RANK: 0 - CUDA_VISIBLE_DEVICES: [0]\n",
      "/home/tbuchhol/Programs/miniconda3/envs/fit_test/lib/python3.7/site-packages/pytorch_lightning/utilities/distributed.py:52: UserWarning: The dataloader, test dataloader 0, does not have many workers which may be a bottleneck. Consider increasing the value of the `num_workers` argument` (try 56 which is the number of cpus on this machine) in the `DataLoader` init to improve performance.\n",
      "  warnings.warn(*args, **kwargs)\n"
     ]
    },
    {
     "data": {
      "application/vnd.jupyter.widget-view+json": {
       "model_id": "e2a51bba65bb4b78a91b1928d2a07796",
       "version_major": 2,
       "version_minor": 0
      },
      "text/plain": [
       "Testing: 0it [00:00, ?it/s]"
      ]
     },
     "metadata": {},
     "output_type": "display_data"
    },
    {
     "name": "stderr",
     "output_type": "stream",
     "text": [
      "/home/tbuchhol/.local/lib/python3.7/site-packages/torch/nn/functional.py:1628: UserWarning: nn.functional.tanh is deprecated. Use torch.tanh instead.\n",
      "  warnings.warn(\"nn.functional.tanh is deprecated. Use torch.tanh instead.\")\n"
     ]
    },
    {
     "name": "stdout",
     "output_type": "stream",
     "text": [
      "bin_factor set to 1.\n",
      "--------------------------------------------------------------------------------\n",
      "DATALOADER:0 TEST RESULTS\n",
      "{'Mean PSNR': array(27.901992797851562, dtype=float32),\n",
      " 'SEM PSNR': array(0.026088180020451546, dtype=float32)}\n",
      "--------------------------------------------------------------------------------\n"
     ]
    }
   ],
   "source": [
    "test_res = trainer.test(model, datamodule=dm)"
   ]
  },
  {
   "cell_type": "code",
   "execution_count": 14,
   "metadata": {},
   "outputs": [],
   "source": [
    "for x_fc, fbp_fc, y_fc, y_real, (amp_min, amp_max) in dm.test_dataloader():\n",
    "    break"
   ]
  },
  {
   "cell_type": "code",
   "execution_count": 15,
   "metadata": {},
   "outputs": [],
   "source": [
    "model.cpu();"
   ]
  },
  {
   "cell_type": "code",
   "execution_count": 16,
   "metadata": {
    "scrolled": true
   },
   "outputs": [
    {
     "name": "stderr",
     "output_type": "stream",
     "text": [
      "/home/tbuchhol/Gitrepos/FourierImageTransformer/fit/modules/TRecTransformerModule.py:357: UserWarning: Casting complex values to real discards the imaginary part (Triggered internally at  /pytorch/aten/src/ATen/native/Copy.cpp:162.)\n",
      "  pred_fc_[:, :tmp.shape[1]] = tmp\n"
     ]
    }
   ],
   "source": [
    "pred_img, pred_img_before_conv = model.get_imgs(x_fc, fbp_fc, y_fc, amp_min, amp_max)"
   ]
  },
  {
   "cell_type": "code",
   "execution_count": 17,
   "metadata": {},
   "outputs": [],
   "source": [
    "# Before the projection we normalized the image, now we undo this for the visualization.\n",
    "# After denormalization we set all pixels outside of the projection-area to zero\n",
    "pred_img = denormalize(pred_img, dm.mean, dm.std) * dm.__get_circle__()\n",
    "y_real = denormalize(y_real, dm.mean, dm.std) * dm.__get_circle__()"
   ]
  },
  {
   "cell_type": "code",
   "execution_count": 18,
   "metadata": {},
   "outputs": [],
   "source": [
    "dft_fbp = convert2DFT(x=fbp_fc[:,model.dst_flatten_order], amp_min=amp_min, amp_max=amp_max,\n",
    "                              dst_flatten_order=model.dst_flatten_order, img_shape=model.hparams.img_shape)\n",
    "fbp_img = torch.roll(torch.fft.irfftn(model.mask * dft_fbp[0], s=2 * (model.hparams.img_shape,)),\n",
    "                     2 * (model.hparams.img_shape // 2,), (0, 1))\n",
    "\n",
    "fbp_img = (fbp_img - fbp_img.min())*255/(fbp_img.max() - fbp_img.min())\n",
    "fbp_img = fbp_img * dm.__get_circle__()"
   ]
  },
  {
   "cell_type": "code",
   "execution_count": 19,
   "metadata": {},
   "outputs": [
    {
     "data": {
      "image/png": "[encoded data removed]",
      "text/plain": [
       "<Figure size 1080x360 with 3 Axes>"
      ]
     },
     "metadata": {
      "needs_background": "light"
     },
     "output_type": "display_data"
    }
   ],
   "source": [
    "plt.figure(figsize=(15,5))\n",
    "plt.subplot(1,3,1)\n",
    "plt.imshow(fbp_img, cmap='gray', vmin=y_real[0].min(), vmax=y_real[0].max())\n",
    "plt.title('Filtered Backprojection');\n",
    "plt.subplot(1,3,2)\n",
    "plt.imshow(pred_img[0].detach(), cmap='gray', vmin=y_real[0].min(), vmax=y_real[0].max())\n",
    "plt.title('Prediction');\n",
    "plt.subplot(1,3,3)\n",
    "plt.imshow(y_real[0], cmap='gray')\n",
    "plt.title('Ground Truth');"
   ]
  }
 ],
 "metadata": {
  "kernelspec": {
   "display_name": "Python 3",
   "language": "python",
   "name": "python3"
  },
  "language_info": {
   "codemirror_mode": {
    "name": "ipython",
    "version": 3
   },
   "file_extension": ".py",
   "mimetype": "text/x-python",
   "name": "python",
   "nbconvert_exporter": "python",
   "pygments_lexer": "ipython3",
   "version": "3.7.10"
  }
 },
 "nbformat": 4,
 "nbformat_minor": 4
}
