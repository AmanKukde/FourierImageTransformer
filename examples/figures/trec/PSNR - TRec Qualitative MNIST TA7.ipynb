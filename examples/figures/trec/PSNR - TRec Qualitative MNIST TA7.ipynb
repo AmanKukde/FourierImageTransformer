{
 "cells": [
  {
   "cell_type": "code",
   "execution_count": 1,
   "metadata": {},
   "outputs": [],
   "source": [
    "from fit.datamodules.tomo_rec import MNISTTomoFourierTargetDataModule\n",
    "from fit.utils import convert2FC, fft_interpolate, psfft, convert_to_dft, PSNR\n",
    "from fit.utils.tomo_utils import get_proj_coords_pol, get_img_coords_pol\n",
    "from matplotlib import pyplot as plt\n",
    "\n",
    "import torch\n",
    "\n",
    "import numpy as np\n",
    "\n",
    "from skimage.transform import iradon\n",
    "\n",
    "from fit.utils.utils import denormalize, PSNR\n",
    "\n",
    "from fit.modules import TRecTransformerModule\n",
    "\n",
    "from matplotlib import gridspec\n",
    "\n",
    "from tqdm import tqdm_notebook as tqdm\n",
    "\n",
    "from pytorch_lightning import Trainer, seed_everything\n",
    "from pytorch_lightning.callbacks import ModelCheckpoint"
   ]
  },
  {
   "cell_type": "code",
   "execution_count": 2,
   "metadata": {},
   "outputs": [],
   "source": [
    "batch_size = 8\n",
    "num_angles = 7\n",
    "img_shape = 27\n",
    "inner_circle = True"
   ]
  },
  {
   "cell_type": "code",
   "execution_count": 3,
   "metadata": {
    "scrolled": true
   },
   "outputs": [],
   "source": [
    "dm = MNISTTomoFourierTargetDataModule(root_dir='/data/mnist/', batch_size=batch_size, \n",
    "                                      num_angles=num_angles, inner_circle=inner_circle)\n",
    "dm.setup()\n",
    "\n",
    "test_dl = dm.test_dataloader()"
   ]
  },
  {
   "cell_type": "code",
   "execution_count": 4,
   "metadata": {},
   "outputs": [],
   "source": [
    "det_len = dm.gt_ds.get_ray_trafo().geometry.detector.shape[0]"
   ]
  },
  {
   "cell_type": "code",
   "execution_count": 5,
   "metadata": {},
   "outputs": [],
   "source": [
    "proj_r, proj_phi, src_flatten = get_proj_coords_pol(angles=dm.gt_ds.get_ray_trafo().geometry.angles, \n",
    "                                                          det_len=det_len)\n",
    "target_r, target_phi, dst_flatten, order = get_img_coords_pol(img_shape=img_shape, det_len=det_len)"
   ]
  },
  {
   "cell_type": "code",
   "execution_count": 6,
   "metadata": {},
   "outputs": [
    {
     "name": "stderr",
     "output_type": "stream",
     "text": [
      "GPU available: True, used: True\n",
      "TPU available: None, using: 0 TPU cores\n",
      "LOCAL_RANK: 0 - CUDA_VISIBLE_DEVICES: [0]\n"
     ]
    }
   ],
   "source": [
    "trainer = Trainer(max_epochs=20, \n",
    "                  gpus=1,\n",
    "                  checkpoint_callback=ModelCheckpoint(\n",
    "                                            filepath=None,\n",
    "                                            save_top_k=1,\n",
    "                                            verbose=False,\n",
    "                                            save_last=True,\n",
    "                                            monitor='Train/avg_val_mse',\n",
    "                                            mode='min',\n",
    "                                            prefix='best_val_loss_'\n",
    "                                        ), \n",
    "                  deterministic=True)"
   ]
  },
  {
   "cell_type": "markdown",
   "metadata": {},
   "source": [
    "# FIT - TRec (Ours)"
   ]
  },
  {
   "cell_type": "code",
   "execution_count": 7,
   "metadata": {},
   "outputs": [],
   "source": [
    "best_path = '/home/tbuchhol/HaarVAE/FIT_experiments/iccv_experiments/TRec/trec_mnist_v0.1.24_fbp_prod_dconv8_nh8_dq32_icTrue_ibf2_bfc5_nl4_me300_ta7_pc/lightning_logs/version_39398335/checkpoints/best_val_loss_-epoch=298-step=513980.ckpt'"
   ]
  },
  {
   "cell_type": "code",
   "execution_count": 8,
   "metadata": {},
   "outputs": [
    {
     "name": "stdout",
     "output_type": "stream",
     "text": [
      "/home/tbuchhol/HaarVAE/FIT_experiments/iccv_experiments/TRec/trec_mnist_v0.1.24_fbp_prod_dconv8_nh8_dq32_icTrue_ibf2_bfc5_nl4_me300_ta7_pc/lightning_logs/version_39398335/checkpoints/best_val_loss_-epoch=298-step=513980.ckpt\n"
     ]
    }
   ],
   "source": [
    "print(best_path)"
   ]
  },
  {
   "cell_type": "code",
   "execution_count": 9,
   "metadata": {},
   "outputs": [],
   "source": [
    "model = TRecTransformerModule.load_from_checkpoint(best_path,\n",
    "                                                   y_coords_proj=proj_r,\n",
    "                                                   x_coords_proj=proj_phi,\n",
    "                                                   y_coords_img=target_r,\n",
    "                                                   x_coords_img=target_phi,\n",
    "                                                   angles=dm.gt_ds.get_ray_trafo().geometry.angles,\n",
    "                                                   src_flatten_coords=src_flatten,\n",
    "                                                   dst_flatten_coords=dst_flatten,\n",
    "                                                   dst_order=order,encoder_only=False, use_fbp=True)"
   ]
  },
  {
   "cell_type": "code",
   "execution_count": 10,
   "metadata": {},
   "outputs": [
    {
     "name": "stderr",
     "output_type": "stream",
     "text": [
      "/home/tbuchhol/Programs/miniconda3/envs/ft/lib/python3.7/site-packages/pytorch_lightning/utilities/distributed.py:49: UserWarning: The dataloader, test dataloader 0, does not have many workers which may be a bottleneck. Consider increasing the value of the `num_workers` argument` (try 56 which is the number of cpus on this machine) in the `DataLoader` init to improve performance.\n",
      "  warnings.warn(*args, **kwargs)\n"
     ]
    },
    {
     "data": {
      "application/vnd.jupyter.widget-view+json": {
       "model_id": "1105eace71964a49ae7ed4c30165e5e7",
       "version_major": 2,
       "version_minor": 0
      },
      "text/plain": [
       "HBox(children=(HTML(value='Testing'), FloatProgress(value=1.0, bar_style='info', layout=Layout(flex='2'), max=…"
      ]
     },
     "metadata": {},
     "output_type": "display_data"
    },
    {
     "name": "stderr",
     "output_type": "stream",
     "text": [
      "/home/tbuchhol/.local/lib/python3.7/site-packages/torch/nn/functional.py:1628: UserWarning: nn.functional.tanh is deprecated. Use torch.tanh instead.\n",
      "  warnings.warn(\"nn.functional.tanh is deprecated. Use torch.tanh instead.\")\n"
     ]
    },
    {
     "name": "stdout",
     "output_type": "stream",
     "text": [
      "bin_factor set to 1.\n",
      "\n",
      "--------------------------------------------------------------------------------\n",
      "DATALOADER:0 TEST RESULTS\n",
      "{'Mean PSNR': array(27.84994888305664, dtype=float32),\n",
      " 'SEM PSNR': array(0.025329159572720528, dtype=float32)}\n",
      "--------------------------------------------------------------------------------\n"
     ]
    }
   ],
   "source": [
    "test_res = trainer.test(model, datamodule=dm)[0]"
   ]
  },
  {
   "cell_type": "code",
   "execution_count": 11,
   "metadata": {},
   "outputs": [
    {
     "data": {
      "text/plain": [
       "27.850000000000001"
      ]
     },
     "execution_count": 11,
     "metadata": {},
     "output_type": "execute_result"
    }
   ],
   "source": [
    "np.round(test_res['Mean PSNR'].item(), 2)"
   ]
  },
  {
   "cell_type": "markdown",
   "metadata": {},
   "source": [
    "# Fourier Query Points"
   ]
  },
  {
   "cell_type": "code",
   "execution_count": 7,
   "metadata": {},
   "outputs": [],
   "source": [
    "best_path = '/home/tbuchhol/HaarVAE/FIT_experiments/iccv_experiments/TRec/trec_mnist_v0.1.24_zero_prod_dconv8_nh8_dq32_icTrue_ibf2_bfc5_nl4_me300_ta7_pc/lightning_logs/version_39413814/checkpoints/best_val_loss_-epoch=261-step=450377.ckpt'"
   ]
  },
  {
   "cell_type": "code",
   "execution_count": 8,
   "metadata": {},
   "outputs": [
    {
     "name": "stdout",
     "output_type": "stream",
     "text": [
      "/home/tbuchhol/HaarVAE/FIT_experiments/iccv_experiments/TRec/trec_mnist_v0.1.24_zero_prod_dconv8_nh8_dq32_icTrue_ibf2_bfc5_nl4_me300_ta7_pc/lightning_logs/version_39413814/checkpoints/best_val_loss_-epoch=261-step=450377.ckpt\n"
     ]
    }
   ],
   "source": [
    "print(best_path)"
   ]
  },
  {
   "cell_type": "code",
   "execution_count": 9,
   "metadata": {},
   "outputs": [],
   "source": [
    "model = TRecTransformerModule.load_from_checkpoint(best_path,\n",
    "                                                   y_coords_proj=proj_r,\n",
    "                                                   x_coords_proj=proj_phi,\n",
    "                                                   y_coords_img=target_r,\n",
    "                                                   x_coords_img=target_phi,\n",
    "                                                   angles=dm.gt_ds.get_ray_trafo().geometry.angles,\n",
    "                                                   src_flatten_coords=src_flatten,\n",
    "                                                   dst_flatten_coords=dst_flatten,\n",
    "                                                   dst_order=order,encoder_only=False, use_fbp=False)"
   ]
  },
  {
   "cell_type": "code",
   "execution_count": 10,
   "metadata": {},
   "outputs": [
    {
     "name": "stderr",
     "output_type": "stream",
     "text": [
      "/home/tbuchhol/Programs/miniconda3/envs/ft/lib/python3.7/site-packages/pytorch_lightning/utilities/distributed.py:49: UserWarning: The dataloader, test dataloader 0, does not have many workers which may be a bottleneck. Consider increasing the value of the `num_workers` argument` (try 56 which is the number of cpus on this machine) in the `DataLoader` init to improve performance.\n",
      "  warnings.warn(*args, **kwargs)\n"
     ]
    },
    {
     "data": {
      "application/vnd.jupyter.widget-view+json": {
       "model_id": "c07978f2f473462698b0ed17b9910540",
       "version_major": 2,
       "version_minor": 0
      },
      "text/plain": [
       "HBox(children=(HTML(value='Testing'), FloatProgress(value=1.0, bar_style='info', layout=Layout(flex='2'), max=…"
      ]
     },
     "metadata": {},
     "output_type": "display_data"
    },
    {
     "name": "stderr",
     "output_type": "stream",
     "text": [
      "/home/tbuchhol/.local/lib/python3.7/site-packages/torch/nn/functional.py:1628: UserWarning: nn.functional.tanh is deprecated. Use torch.tanh instead.\n",
      "  warnings.warn(\"nn.functional.tanh is deprecated. Use torch.tanh instead.\")\n"
     ]
    },
    {
     "name": "stdout",
     "output_type": "stream",
     "text": [
      "bin_factor set to 1.\n",
      "\n",
      "--------------------------------------------------------------------------------\n",
      "DATALOADER:0 TEST RESULTS\n",
      "{'Mean PSNR': array(27.901988983154297, dtype=float32),\n",
      " 'SEM PSNR': array(0.026088178157806396, dtype=float32)}\n",
      "--------------------------------------------------------------------------------\n"
     ]
    }
   ],
   "source": [
    "test_res = trainer.test(model, datamodule=dm)[0]"
   ]
  },
  {
   "cell_type": "code",
   "execution_count": 11,
   "metadata": {},
   "outputs": [
    {
     "data": {
      "text/plain": [
       "27.899999999999999"
      ]
     },
     "execution_count": 11,
     "metadata": {},
     "output_type": "execute_result"
    }
   ],
   "source": [
    "np.round(test_res['Mean PSNR'].item(), 2)"
   ]
  },
  {
   "cell_type": "markdown",
   "metadata": {},
   "source": [
    "# Encoder Only"
   ]
  },
  {
   "cell_type": "code",
   "execution_count": 17,
   "metadata": {},
   "outputs": [],
   "source": [
    "best_path = '/home/tbuchhol/HaarVAE/FIT_experiments/iccv_experiments/TRec/trec_mnist_v0.1.24_eo_fbp_prod_dconv8_nh8_dq32_icTrue_ibf2_bfc5_nl4_me300_ta7_pc/lightning_logs/version_39398334/checkpoints/best_val_loss_-epoch=295-step=508823.ckpt'"
   ]
  },
  {
   "cell_type": "code",
   "execution_count": 18,
   "metadata": {},
   "outputs": [
    {
     "name": "stdout",
     "output_type": "stream",
     "text": [
      "/home/tbuchhol/HaarVAE/FIT_experiments/iccv_experiments/TRec/trec_mnist_v0.1.24_eo_fbp_prod_dconv8_nh8_dq32_icTrue_ibf2_bfc5_nl4_me300_ta7_pc/lightning_logs/version_39398334/checkpoints/best_val_loss_-epoch=295-step=508823.ckpt\n"
     ]
    }
   ],
   "source": [
    "print(best_path)"
   ]
  },
  {
   "cell_type": "code",
   "execution_count": 19,
   "metadata": {},
   "outputs": [],
   "source": [
    "model = TRecTransformerModule.load_from_checkpoint(best_path,\n",
    "                                                   y_coords_proj=proj_r,\n",
    "                                                   x_coords_proj=proj_phi,\n",
    "                                                   y_coords_img=target_r,\n",
    "                                                   x_coords_img=target_phi,\n",
    "                                                   angles=dm.gt_ds.get_ray_trafo().geometry.angles,\n",
    "                                                   src_flatten_coords=src_flatten,\n",
    "                                                   dst_flatten_coords=dst_flatten,\n",
    "                                                   dst_order=order,encoder_only=True, use_fbp=True)"
   ]
  },
  {
   "cell_type": "code",
   "execution_count": 20,
   "metadata": {},
   "outputs": [
    {
     "data": {
      "application/vnd.jupyter.widget-view+json": {
       "model_id": "91ca8a36126745d38ac5d3b35b2d6b2e",
       "version_major": 2,
       "version_minor": 0
      },
      "text/plain": [
       "HBox(children=(HTML(value='Testing'), FloatProgress(value=1.0, bar_style='info', layout=Layout(flex='2'), max=…"
      ]
     },
     "metadata": {},
     "output_type": "display_data"
    },
    {
     "name": "stdout",
     "output_type": "stream",
     "text": [
      "bin_factor set to 1.\n",
      "\n",
      "--------------------------------------------------------------------------------\n",
      "DATALOADER:0 TEST RESULTS\n",
      "{'Mean PSNR': array(26.892974853515625, dtype=float32),\n",
      " 'SEM PSNR': array(0.024121969938278198, dtype=float32)}\n",
      "--------------------------------------------------------------------------------\n"
     ]
    }
   ],
   "source": [
    "test_res = trainer.test(model, datamodule=dm)[0]"
   ]
  },
  {
   "cell_type": "code",
   "execution_count": 21,
   "metadata": {},
   "outputs": [
    {
     "data": {
      "text/plain": [
       "26.890000000000001"
      ]
     },
     "execution_count": 21,
     "metadata": {},
     "output_type": "execute_result"
    }
   ],
   "source": [
    "np.round(test_res['Mean PSNR'].item(), 2)"
   ]
  },
  {
   "cell_type": "markdown",
   "metadata": {},
   "source": [
    "# ConvBlock Only"
   ]
  },
  {
   "cell_type": "code",
   "execution_count": 22,
   "metadata": {},
   "outputs": [],
   "source": [
    "best_path = '/home/tbuchhol/HaarVAE/FIT_experiments/iccv_experiments/TRec/trec_mnist_v0.1.24_baseline_dconv8_me300_ta7/lightning_logs/version_39398337/checkpoints/best_val_loss_-epoch=130-step=225188.ckpt'"
   ]
  },
  {
   "cell_type": "code",
   "execution_count": 23,
   "metadata": {},
   "outputs": [
    {
     "name": "stdout",
     "output_type": "stream",
     "text": [
      "/home/tbuchhol/HaarVAE/FIT_experiments/iccv_experiments/TRec/trec_mnist_v0.1.24_baseline_dconv8_me300_ta7/lightning_logs/version_39398337/checkpoints/best_val_loss_-epoch=130-step=225188.ckpt\n"
     ]
    }
   ],
   "source": [
    "print(best_path)"
   ]
  },
  {
   "cell_type": "code",
   "execution_count": 24,
   "metadata": {},
   "outputs": [],
   "source": [
    "model = TRecTransformerModule.load_from_checkpoint(best_path,\n",
    "                                                   y_coords_proj=proj_r,\n",
    "                                                   x_coords_proj=proj_phi,\n",
    "                                                   y_coords_img=target_r,\n",
    "                                                   x_coords_img=target_phi,\n",
    "                                                   angles=dm.gt_ds.get_ray_trafo().geometry.angles,\n",
    "                                                   src_flatten_coords=src_flatten,\n",
    "                                                   dst_flatten_coords=dst_flatten,\n",
    "                                                   dst_order=order,encoder_only=False, use_fbp=True, \n",
    "                                                   convblock_only=True)"
   ]
  },
  {
   "cell_type": "code",
   "execution_count": 25,
   "metadata": {},
   "outputs": [
    {
     "data": {
      "application/vnd.jupyter.widget-view+json": {
       "model_id": "db3a44f9d51d44f594ebfc83e645e338",
       "version_major": 2,
       "version_minor": 0
      },
      "text/plain": [
       "HBox(children=(HTML(value='Testing'), FloatProgress(value=1.0, bar_style='info', layout=Layout(flex='2'), max=…"
      ]
     },
     "metadata": {},
     "output_type": "display_data"
    },
    {
     "name": "stdout",
     "output_type": "stream",
     "text": [
      "\n",
      "--------------------------------------------------------------------------------\n",
      "DATALOADER:0 TEST RESULTS\n",
      "{'Mean PSNR': array(22.525243759155273, dtype=float32),\n",
      " 'SEM PSNR': array(0.017983626574277878, dtype=float32)}\n",
      "--------------------------------------------------------------------------------\n"
     ]
    }
   ],
   "source": [
    "test_res = trainer.test(model, datamodule=dm)[0]"
   ]
  },
  {
   "cell_type": "code",
   "execution_count": 26,
   "metadata": {},
   "outputs": [
    {
     "data": {
      "text/plain": [
       "22.530000000000001"
      ]
     },
     "execution_count": 26,
     "metadata": {},
     "output_type": "execute_result"
    }
   ],
   "source": [
    "np.round(test_res['Mean PSNR'].item(), 2)"
   ]
  },
  {
   "cell_type": "markdown",
   "metadata": {},
   "source": [
    "# FBP "
   ]
  },
  {
   "cell_type": "code",
   "execution_count": 27,
   "metadata": {},
   "outputs": [
    {
     "name": "stderr",
     "output_type": "stream",
     "text": [
      "/home/tbuchhol/Programs/miniconda3/envs/ft/lib/python3.7/site-packages/ipykernel_launcher.py:4: TqdmDeprecationWarning: This function will be removed in tqdm==5.0.0\n",
      "Please use `tqdm.notebook.tqdm` instead of `tqdm.tqdm_notebook`\n",
      "  after removing the cwd from sys.path.\n"
     ]
    },
    {
     "data": {
      "application/vnd.jupyter.widget-view+json": {
       "model_id": "d5fbadf56fba4164b72e918fffc76d1b",
       "version_major": 2,
       "version_minor": 0
      },
      "text/plain": [
       "HBox(children=(HTML(value=''), FloatProgress(value=0.0, max=10000.0), HTML(value='')))"
      ]
     },
     "metadata": {},
     "output_type": "display_data"
    },
    {
     "name": "stdout",
     "output_type": "stream",
     "text": [
      "\n"
     ]
    },
    {
     "data": {
      "text/plain": [
       "17.870000000000001"
      ]
     },
     "execution_count": 27,
     "metadata": {},
     "output_type": "execute_result"
    }
   ],
   "source": [
    "test_dl = dm.test_dataloader()\n",
    "\n",
    "fbp_psnrs = []\n",
    "for i in tqdm(range(len(test_dl.dataset.ds))):\n",
    "    sino, img = test_dl.dataset.ds[i]\n",
    "    rec = torch.from_numpy(np.array(iradon(sino.numpy().T, theta=-np.rad2deg(dm.gt_ds.get_ray_trafo().geometry.angles)).T))\n",
    "    img = denormalize(img, dm.mean, dm.std)\n",
    "    rec = denormalize(rec, dm.mean, dm.std)\n",
    "    rec *= model.circle.cpu()\n",
    "    img *= model.circle.cpu()\n",
    "    fbp_psnrs.append(PSNR(img, rec, img.max() - img.min()))\n",
    "    \n",
    "np.round(torch.mean(torch.stack(fbp_psnrs)).item(), 2)"
   ]
  },
  {
   "cell_type": "code",
   "execution_count": null,
   "metadata": {},
   "outputs": [],
   "source": []
  }
 ],
 "metadata": {
  "kernelspec": {
   "display_name": "Python 3",
   "language": "python",
   "name": "python3"
  },
  "language_info": {
   "codemirror_mode": {
    "name": "ipython",
    "version": 3
   },
   "file_extension": ".py",
   "mimetype": "text/x-python",
   "name": "python",
   "nbconvert_exporter": "python",
   "pygments_lexer": "ipython3",
   "version": "3.7.9"
  }
 },
 "nbformat": 4,
 "nbformat_minor": 4
}
