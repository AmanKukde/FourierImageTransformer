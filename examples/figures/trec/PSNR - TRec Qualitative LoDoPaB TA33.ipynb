{
 "cells": [
  {
   "cell_type": "code",
   "execution_count": 1,
   "metadata": {},
   "outputs": [],
   "source": [
    "from fit.datamodules.tomo_rec.TRecDataModule import LoDoPaBFourierTargetDataModule\n",
    "from fit.utils import convert2FC, fft_interpolate, psfft, convert_to_dft, PSNR\n",
    "from fit.utils.tomo_utils import get_proj_coords_pol, get_img_coords_pol\n",
    "from matplotlib import pyplot as plt\n",
    "\n",
    "import torch\n",
    "\n",
    "import numpy as np\n",
    "\n",
    "from skimage.transform import iradon\n",
    "\n",
    "from fit.utils.utils import denormalize, PSNR\n",
    "\n",
    "from fit.modules import TRecTransformerModule\n",
    "\n",
    "from matplotlib import gridspec\n",
    "\n",
    "from tqdm import tqdm_notebook as tqdm\n",
    "\n",
    "from pytorch_lightning import Trainer, seed_everything\n",
    "from pytorch_lightning.callbacks import ModelCheckpoint"
   ]
  },
  {
   "cell_type": "code",
   "execution_count": 2,
   "metadata": {},
   "outputs": [],
   "source": [
    "batch_size = 1\n",
    "num_angles = 33\n",
    "img_shape = 111\n",
    "inner_circle = True"
   ]
  },
  {
   "cell_type": "code",
   "execution_count": 3,
   "metadata": {
    "scrolled": true
   },
   "outputs": [],
   "source": [
    "dm = LoDoPaBFourierTargetDataModule(batch_size=batch_size, gt_shape=img_shape, num_angles=num_angles)\n",
    "dm.setup()\n",
    "\n",
    "test_dl = dm.test_dataloader()"
   ]
  },
  {
   "cell_type": "code",
   "execution_count": 4,
   "metadata": {},
   "outputs": [],
   "source": [
    "det_len = dm.gt_ds.get_ray_trafo().geometry.detector.shape[0]"
   ]
  },
  {
   "cell_type": "code",
   "execution_count": 5,
   "metadata": {},
   "outputs": [],
   "source": [
    "proj_r, proj_phi, src_flatten = get_proj_coords_pol(angles=dm.gt_ds.get_ray_trafo().geometry.angles, \n",
    "                                                          det_len=det_len)\n",
    "target_r, target_phi, dst_flatten, order = get_img_coords_pol(img_shape=img_shape, det_len=det_len)"
   ]
  },
  {
   "cell_type": "code",
   "execution_count": 6,
   "metadata": {},
   "outputs": [
    {
     "name": "stderr",
     "output_type": "stream",
     "text": [
      "GPU available: True, used: True\n",
      "TPU available: None, using: 0 TPU cores\n",
      "LOCAL_RANK: 0 - CUDA_VISIBLE_DEVICES: [0]\n"
     ]
    }
   ],
   "source": [
    "trainer = Trainer(max_epochs=20, \n",
    "                  gpus=1,\n",
    "                  checkpoint_callback=ModelCheckpoint(\n",
    "                                            filepath=None,\n",
    "                                            save_top_k=1,\n",
    "                                            verbose=False,\n",
    "                                            save_last=True,\n",
    "                                            monitor='Train/avg_val_mse',\n",
    "                                            mode='min',\n",
    "                                            prefix='best_val_loss_'\n",
    "                                        ), \n",
    "                  deterministic=True)"
   ]
  },
  {
   "cell_type": "markdown",
   "metadata": {},
   "source": [
    "# FIT - TRec (Ours)"
   ]
  },
  {
   "cell_type": "code",
   "execution_count": 23,
   "metadata": {},
   "outputs": [],
   "source": [
    "best_path = '/home/tbuchhol/HaarVAE/FIT_experiments/iccv_experiments/TRec/trec_LoDoPaB111_v0.1.24_fbp_prod_dconv8_nh8_dq32_icTrue_ibf8_bfc5_nl4_me350_ta33_pc/lightning_logs/version_39398340/checkpoints/best_val_loss_-epoch=75-step=75999.ckpt'"
   ]
  },
  {
   "cell_type": "code",
   "execution_count": 24,
   "metadata": {},
   "outputs": [
    {
     "name": "stdout",
     "output_type": "stream",
     "text": [
      "/home/tbuchhol/HaarVAE/FIT_experiments/iccv_experiments/TRec/trec_LoDoPaB111_v0.1.24_fbp_prod_dconv8_nh8_dq32_icTrue_ibf8_bfc5_nl4_me350_ta33_pc/lightning_logs/version_39398340/checkpoints/best_val_loss_-epoch=75-step=75999.ckpt\n"
     ]
    }
   ],
   "source": [
    "print(best_path)"
   ]
  },
  {
   "cell_type": "code",
   "execution_count": 25,
   "metadata": {},
   "outputs": [],
   "source": [
    "model = TRecTransformerModule.load_from_checkpoint(best_path,\n",
    "                                                   y_coords_proj=proj_r,\n",
    "                                                   x_coords_proj=proj_phi,\n",
    "                                                   y_coords_img=target_r,\n",
    "                                                   x_coords_img=target_phi,\n",
    "                                                   angles=dm.gt_ds.get_ray_trafo().geometry.angles,\n",
    "                                                   src_flatten_coords=src_flatten,\n",
    "                                                   dst_flatten_coords=dst_flatten,\n",
    "                                                   dst_order=order,encoder_only=False, use_fbp=True)"
   ]
  },
  {
   "cell_type": "code",
   "execution_count": 26,
   "metadata": {},
   "outputs": [
    {
     "name": "stderr",
     "output_type": "stream",
     "text": [
      "/home/tbuchhol/Programs/miniconda3/envs/ft/lib/python3.7/site-packages/pytorch_lightning/utilities/distributed.py:49: UserWarning: The dataloader, test dataloader 0, does not have many workers which may be a bottleneck. Consider increasing the value of the `num_workers` argument` (try 56 which is the number of cpus on this machine) in the `DataLoader` init to improve performance.\n",
      "  warnings.warn(*args, **kwargs)\n"
     ]
    },
    {
     "data": {
      "application/vnd.jupyter.widget-view+json": {
       "model_id": "77a9d3c36ccf4f4eaacae82d03c52e19",
       "version_major": 2,
       "version_minor": 0
      },
      "text/plain": [
       "HBox(children=(HTML(value='Testing'), FloatProgress(value=1.0, bar_style='info', layout=Layout(flex='2'), max=…"
      ]
     },
     "metadata": {},
     "output_type": "display_data"
    },
    {
     "name": "stderr",
     "output_type": "stream",
     "text": [
      "/home/tbuchhol/.local/lib/python3.7/site-packages/torch/nn/functional.py:1628: UserWarning: nn.functional.tanh is deprecated. Use torch.tanh instead.\n",
      "  warnings.warn(\"nn.functional.tanh is deprecated. Use torch.tanh instead.\")\n"
     ]
    },
    {
     "name": "stdout",
     "output_type": "stream",
     "text": [
      "bin_factor set to 1.\n",
      "\n",
      "--------------------------------------------------------------------------------\n",
      "DATALOADER:0 TEST RESULTS\n",
      "{'Mean PSNR': array(30.976335525512695, dtype=float32),\n",
      " 'SEM PSNR': array(0.03192515671253204, dtype=float32)}\n",
      "--------------------------------------------------------------------------------\n"
     ]
    }
   ],
   "source": [
    "test_res = trainer.test(model, datamodule=dm)[0]"
   ]
  },
  {
   "cell_type": "code",
   "execution_count": 27,
   "metadata": {},
   "outputs": [
    {
     "data": {
      "text/plain": [
       "30.98"
      ]
     },
     "execution_count": 27,
     "metadata": {},
     "output_type": "execute_result"
    }
   ],
   "source": [
    "np.round(test_res['Mean PSNR'].item(), 2)"
   ]
  },
  {
   "cell_type": "markdown",
   "metadata": {},
   "source": [
    "# Fourier Query Points"
   ]
  },
  {
   "cell_type": "code",
   "execution_count": 7,
   "metadata": {},
   "outputs": [],
   "source": [
    "best_path = '/home/tbuchhol/HaarVAE/FIT_experiments/iccv_experiments/TRec/trec_LoDoPaB111_v0.1.24_zero_prod_dconv8_nh8_dq32_icTrue_ibf8_bfc5_nl4_me350_ta33_pc/lightning_logs/version_39413815/checkpoints/best_val_loss_-epoch=339-step=339999.ckpt'"
   ]
  },
  {
   "cell_type": "code",
   "execution_count": 8,
   "metadata": {},
   "outputs": [
    {
     "name": "stdout",
     "output_type": "stream",
     "text": [
      "/home/tbuchhol/HaarVAE/FIT_experiments/iccv_experiments/TRec/trec_LoDoPaB111_v0.1.24_zero_prod_dconv8_nh8_dq32_icTrue_ibf8_bfc5_nl4_me350_ta33_pc/lightning_logs/version_39413815/checkpoints/best_val_loss_-epoch=339-step=339999.ckpt\n"
     ]
    }
   ],
   "source": [
    "print(best_path)"
   ]
  },
  {
   "cell_type": "code",
   "execution_count": 9,
   "metadata": {},
   "outputs": [],
   "source": [
    "model = TRecTransformerModule.load_from_checkpoint(best_path,\n",
    "                                                   y_coords_proj=proj_r,\n",
    "                                                   x_coords_proj=proj_phi,\n",
    "                                                   y_coords_img=target_r,\n",
    "                                                   x_coords_img=target_phi,\n",
    "                                                   angles=dm.gt_ds.get_ray_trafo().geometry.angles,\n",
    "                                                   src_flatten_coords=src_flatten,\n",
    "                                                   dst_flatten_coords=dst_flatten,\n",
    "                                                   dst_order=order,encoder_only=False, use_fbp=False)"
   ]
  },
  {
   "cell_type": "code",
   "execution_count": 10,
   "metadata": {},
   "outputs": [
    {
     "name": "stderr",
     "output_type": "stream",
     "text": [
      "/home/tbuchhol/Programs/miniconda3/envs/ft/lib/python3.7/site-packages/pytorch_lightning/utilities/distributed.py:49: UserWarning: The dataloader, test dataloader 0, does not have many workers which may be a bottleneck. Consider increasing the value of the `num_workers` argument` (try 56 which is the number of cpus on this machine) in the `DataLoader` init to improve performance.\n",
      "  warnings.warn(*args, **kwargs)\n"
     ]
    },
    {
     "data": {
      "application/vnd.jupyter.widget-view+json": {
       "model_id": "310cf31d6cfa469fa1a20982b10fb311",
       "version_major": 2,
       "version_minor": 0
      },
      "text/plain": [
       "HBox(children=(HTML(value='Testing'), FloatProgress(value=1.0, bar_style='info', layout=Layout(flex='2'), max=…"
      ]
     },
     "metadata": {},
     "output_type": "display_data"
    },
    {
     "name": "stderr",
     "output_type": "stream",
     "text": [
      "/home/tbuchhol/.local/lib/python3.7/site-packages/torch/nn/functional.py:1628: UserWarning: nn.functional.tanh is deprecated. Use torch.tanh instead.\n",
      "  warnings.warn(\"nn.functional.tanh is deprecated. Use torch.tanh instead.\")\n"
     ]
    },
    {
     "name": "stdout",
     "output_type": "stream",
     "text": [
      "bin_factor set to 1.\n",
      "\n",
      "--------------------------------------------------------------------------------\n",
      "DATALOADER:0 TEST RESULTS\n",
      "{'Mean PSNR': array(21.899662017822266, dtype=float32),\n",
      " 'SEM PSNR': array(0.04256994277238846, dtype=float32)}\n",
      "--------------------------------------------------------------------------------\n"
     ]
    }
   ],
   "source": [
    "test_res = trainer.test(model, datamodule=dm)[0]"
   ]
  },
  {
   "cell_type": "code",
   "execution_count": 11,
   "metadata": {},
   "outputs": [
    {
     "data": {
      "text/plain": [
       "21.899999999999999"
      ]
     },
     "execution_count": 11,
     "metadata": {},
     "output_type": "execute_result"
    }
   ],
   "source": [
    "np.round(test_res['Mean PSNR'].item(), 2)"
   ]
  },
  {
   "cell_type": "markdown",
   "metadata": {},
   "source": [
    "# Encoder Only"
   ]
  },
  {
   "cell_type": "code",
   "execution_count": 12,
   "metadata": {},
   "outputs": [],
   "source": [
    "best_path = '/home/tbuchhol/HaarVAE/FIT_experiments/iccv_experiments/TRec/trec_LoDoPaB111_v0.1.24_eo_fbp_prod_dconv8_nh8_dq32_icTrue_ibf8_bfc5_nl4_me350_ta33_pc/lightning_logs/version_39398338/checkpoints/best_val_loss_-epoch=80-step=80999.ckpt'"
   ]
  },
  {
   "cell_type": "code",
   "execution_count": 13,
   "metadata": {},
   "outputs": [
    {
     "name": "stdout",
     "output_type": "stream",
     "text": [
      "/home/tbuchhol/HaarVAE/FIT_experiments/iccv_experiments/TRec/trec_LoDoPaB111_v0.1.24_eo_fbp_prod_dconv8_nh8_dq32_icTrue_ibf8_bfc5_nl4_me350_ta33_pc/lightning_logs/version_39398338/checkpoints/best_val_loss_-epoch=80-step=80999.ckpt\n"
     ]
    }
   ],
   "source": [
    "print(best_path)"
   ]
  },
  {
   "cell_type": "code",
   "execution_count": 14,
   "metadata": {},
   "outputs": [],
   "source": [
    "model = TRecTransformerModule.load_from_checkpoint(best_path,\n",
    "                                                   y_coords_proj=proj_r,\n",
    "                                                   x_coords_proj=proj_phi,\n",
    "                                                   y_coords_img=target_r,\n",
    "                                                   x_coords_img=target_phi,\n",
    "                                                   angles=dm.gt_ds.get_ray_trafo().geometry.angles,\n",
    "                                                   src_flatten_coords=src_flatten,\n",
    "                                                   dst_flatten_coords=dst_flatten,\n",
    "                                                   dst_order=order,encoder_only=True, use_fbp=True)"
   ]
  },
  {
   "cell_type": "code",
   "execution_count": 15,
   "metadata": {},
   "outputs": [
    {
     "name": "stderr",
     "output_type": "stream",
     "text": [
      "/home/tbuchhol/Programs/miniconda3/envs/ft/lib/python3.7/site-packages/pytorch_lightning/utilities/distributed.py:49: UserWarning: The dataloader, test dataloader 0, does not have many workers which may be a bottleneck. Consider increasing the value of the `num_workers` argument` (try 56 which is the number of cpus on this machine) in the `DataLoader` init to improve performance.\n",
      "  warnings.warn(*args, **kwargs)\n"
     ]
    },
    {
     "data": {
      "application/vnd.jupyter.widget-view+json": {
       "model_id": "723444df1e014135beb9d78793c8b14e",
       "version_major": 2,
       "version_minor": 0
      },
      "text/plain": [
       "HBox(children=(HTML(value='Testing'), FloatProgress(value=1.0, bar_style='info', layout=Layout(flex='2'), max=…"
      ]
     },
     "metadata": {},
     "output_type": "display_data"
    },
    {
     "name": "stderr",
     "output_type": "stream",
     "text": [
      "/home/tbuchhol/.local/lib/python3.7/site-packages/torch/nn/functional.py:1628: UserWarning: nn.functional.tanh is deprecated. Use torch.tanh instead.\n",
      "  warnings.warn(\"nn.functional.tanh is deprecated. Use torch.tanh instead.\")\n"
     ]
    },
    {
     "name": "stdout",
     "output_type": "stream",
     "text": [
      "bin_factor set to 1.\n",
      "\n",
      "--------------------------------------------------------------------------------\n",
      "DATALOADER:0 TEST RESULTS\n",
      "{'Mean PSNR': array(30.743947982788086, dtype=float32),\n",
      " 'SEM PSNR': array(0.0313936248421669, dtype=float32)}\n",
      "--------------------------------------------------------------------------------\n"
     ]
    }
   ],
   "source": [
    "test_res = trainer.test(model, datamodule=dm)[0]"
   ]
  },
  {
   "cell_type": "code",
   "execution_count": 16,
   "metadata": {},
   "outputs": [
    {
     "data": {
      "text/plain": [
       "30.739999999999998"
      ]
     },
     "execution_count": 16,
     "metadata": {},
     "output_type": "execute_result"
    }
   ],
   "source": [
    "np.round(test_res['Mean PSNR'].item(), 2)"
   ]
  },
  {
   "cell_type": "markdown",
   "metadata": {},
   "source": [
    "# ConvBlock Only"
   ]
  },
  {
   "cell_type": "code",
   "execution_count": 17,
   "metadata": {},
   "outputs": [],
   "source": [
    "best_path = '/home/tbuchhol/HaarVAE/FIT_experiments/iccv_experiments/TRec/trec_LoDoPaB111_v0.1.24_baseline_dconv8_me350_ta33/lightning_logs/version_39398342/checkpoints/best_val_loss_-epoch=221-step=221999.ckpt'"
   ]
  },
  {
   "cell_type": "code",
   "execution_count": 18,
   "metadata": {},
   "outputs": [
    {
     "name": "stdout",
     "output_type": "stream",
     "text": [
      "/home/tbuchhol/HaarVAE/FIT_experiments/iccv_experiments/TRec/trec_LoDoPaB111_v0.1.24_baseline_dconv8_me350_ta33/lightning_logs/version_39398342/checkpoints/best_val_loss_-epoch=221-step=221999.ckpt\n"
     ]
    }
   ],
   "source": [
    "print(best_path)"
   ]
  },
  {
   "cell_type": "code",
   "execution_count": 19,
   "metadata": {},
   "outputs": [],
   "source": [
    "model = TRecTransformerModule.load_from_checkpoint(best_path,\n",
    "                                                   y_coords_proj=proj_r,\n",
    "                                                   x_coords_proj=proj_phi,\n",
    "                                                   y_coords_img=target_r,\n",
    "                                                   x_coords_img=target_phi,\n",
    "                                                   angles=dm.gt_ds.get_ray_trafo().geometry.angles,\n",
    "                                                   src_flatten_coords=src_flatten,\n",
    "                                                   dst_flatten_coords=dst_flatten,\n",
    "                                                   dst_order=order,encoder_only=False, use_fbp=True, \n",
    "                                                   convblock_only=True)"
   ]
  },
  {
   "cell_type": "code",
   "execution_count": 20,
   "metadata": {},
   "outputs": [
    {
     "name": "stderr",
     "output_type": "stream",
     "text": [
      "/home/tbuchhol/Programs/miniconda3/envs/ft/lib/python3.7/site-packages/pytorch_lightning/utilities/distributed.py:49: UserWarning: The dataloader, test dataloader 0, does not have many workers which may be a bottleneck. Consider increasing the value of the `num_workers` argument` (try 56 which is the number of cpus on this machine) in the `DataLoader` init to improve performance.\n",
      "  warnings.warn(*args, **kwargs)\n"
     ]
    },
    {
     "data": {
      "application/vnd.jupyter.widget-view+json": {
       "model_id": "087d4ed323404fd7b4344eab620d1534",
       "version_major": 2,
       "version_minor": 0
      },
      "text/plain": [
       "HBox(children=(HTML(value='Testing'), FloatProgress(value=1.0, bar_style='info', layout=Layout(flex='2'), max=…"
      ]
     },
     "metadata": {},
     "output_type": "display_data"
    },
    {
     "name": "stdout",
     "output_type": "stream",
     "text": [
      "\n",
      "--------------------------------------------------------------------------------\n",
      "DATALOADER:0 TEST RESULTS\n",
      "{'Mean PSNR': array(30.701017379760742, dtype=float32),\n",
      " 'SEM PSNR': array(0.03536752611398697, dtype=float32)}\n",
      "--------------------------------------------------------------------------------\n"
     ]
    }
   ],
   "source": [
    "test_res = trainer.test(model, datamodule=dm)[0]"
   ]
  },
  {
   "cell_type": "code",
   "execution_count": 21,
   "metadata": {},
   "outputs": [
    {
     "data": {
      "text/plain": [
       "30.699999999999999"
      ]
     },
     "execution_count": 21,
     "metadata": {},
     "output_type": "execute_result"
    }
   ],
   "source": [
    "np.round(test_res['Mean PSNR'].item(), 2)"
   ]
  },
  {
   "cell_type": "markdown",
   "metadata": {},
   "source": [
    "# FBP "
   ]
  },
  {
   "cell_type": "code",
   "execution_count": 22,
   "metadata": {},
   "outputs": [
    {
     "name": "stderr",
     "output_type": "stream",
     "text": [
      "/home/tbuchhol/Programs/miniconda3/envs/ft/lib/python3.7/site-packages/ipykernel_launcher.py:4: TqdmDeprecationWarning: This function will be removed in tqdm==5.0.0\n",
      "Please use `tqdm.notebook.tqdm` instead of `tqdm.tqdm_notebook`\n",
      "  after removing the cwd from sys.path.\n"
     ]
    },
    {
     "data": {
      "application/vnd.jupyter.widget-view+json": {
       "model_id": "10130396788a4a05a6f2f03072200798",
       "version_major": 2,
       "version_minor": 0
      },
      "text/plain": [
       "HBox(children=(HTML(value=''), FloatProgress(value=0.0, max=3553.0), HTML(value='')))"
      ]
     },
     "metadata": {},
     "output_type": "display_data"
    },
    {
     "name": "stdout",
     "output_type": "stream",
     "text": [
      "\n"
     ]
    },
    {
     "data": {
      "text/plain": [
       "26.890000000000001"
      ]
     },
     "execution_count": 22,
     "metadata": {},
     "output_type": "execute_result"
    }
   ],
   "source": [
    "test_dl = dm.test_dataloader()\n",
    "\n",
    "fbp_psnrs = []\n",
    "for i in tqdm(range(len(test_dl.dataset.ds))):\n",
    "    sino, img = test_dl.dataset.ds[i]\n",
    "    rec = torch.from_numpy(np.array(iradon(sino.numpy().T, theta=-np.rad2deg(dm.gt_ds.get_ray_trafo().geometry.angles)).T))\n",
    "    img = denormalize(img, dm.mean, dm.std)\n",
    "    rec = denormalize(rec, dm.mean, dm.std)\n",
    "    rec *= model.circle.cpu()\n",
    "    img *= model.circle.cpu()\n",
    "    fbp_psnrs.append(PSNR(img, rec, img.max() - img.min()))\n",
    "    \n",
    "np.round(torch.mean(torch.stack(fbp_psnrs)).item(), 2)"
   ]
  },
  {
   "cell_type": "code",
   "execution_count": null,
   "metadata": {},
   "outputs": [],
   "source": []
  }
 ],
 "metadata": {
  "kernelspec": {
   "display_name": "Python 3",
   "language": "python",
   "name": "python3"
  },
  "language_info": {
   "codemirror_mode": {
    "name": "ipython",
    "version": 3
   },
   "file_extension": ".py",
   "mimetype": "text/x-python",
   "name": "python",
   "nbconvert_exporter": "python",
   "pygments_lexer": "ipython3",
   "version": "3.7.9"
  }
 },
 "nbformat": 4,
 "nbformat_minor": 4
}
