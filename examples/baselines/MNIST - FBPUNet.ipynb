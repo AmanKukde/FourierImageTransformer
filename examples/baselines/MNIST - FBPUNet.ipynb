{
 "cells": [
  {
   "cell_type": "code",
   "execution_count": 1,
   "metadata": {},
   "outputs": [],
   "source": [
    "\"\"\"\n",
    "Train FBPUNetReconstructor on 'lodopab'.\n",
    "\"\"\"\n",
    "import numpy as np\n",
    "from dival import get_standard_dataset\n",
    "from dival.measure import PSNR\n",
    "from dival.reconstructors.fbpunet_reconstructor import FBPUNetReconstructor\n",
    "from dival.datasets.fbp_dataset import (\n",
    "    generate_fbp_cache_files, get_cached_fbp_dataset)\n",
    "from dival.reference_reconstructors import (\n",
    "    check_for_params, download_params, get_hyper_params_path)\n",
    "from dival.util.plot import plot_images\n",
    "\n",
    "from torchvision.datasets import MNIST\n",
    "from fit.datamodules.GroundTruthDataset import GroundTruthDataset\n",
    "from fit.datamodules.tomo_rec.TRecDataModule import get_projection_dataset\n",
    "\n",
    "from fit.datamodules.tomo_rec.TRecDataModule import MNISTTomoFourierTargetDataModule\n",
    "from fit.utils.utils import PSNR, denormalize\n",
    "\n",
    "import torch"
   ]
  },
  {
   "cell_type": "code",
   "execution_count": 2,
   "metadata": {},
   "outputs": [],
   "source": [
    "root_dir = '/home/tbuchhol/data/mnist/'\n",
    "num_angles = 15\n",
    "IMPL = 'astra_cpu'"
   ]
  },
  {
   "cell_type": "code",
   "execution_count": 3,
   "metadata": {},
   "outputs": [],
   "source": [
    "dm = MNISTTomoFourierTargetDataModule(root_dir='/data/mnist/', batch_size=32, num_angles=15)\n",
    "dm.setup()"
   ]
  },
  {
   "cell_type": "code",
   "execution_count": 4,
   "metadata": {},
   "outputs": [],
   "source": [
    "ray_trafo = dm.gt_ds.get_ray_trafo(impl=IMPL)"
   ]
  },
  {
   "cell_type": "code",
   "execution_count": 5,
   "metadata": {},
   "outputs": [],
   "source": [
    "LOG_DIR = './dival_logs/mnist_fbpunet'\n",
    "SAVE_BEST_LEARNED_PARAMS_PATH = './dival_params/mnist_fbpunet'"
   ]
  },
  {
   "cell_type": "code",
   "execution_count": 6,
   "metadata": {},
   "outputs": [],
   "source": [
    "reconstructor = FBPUNetReconstructor(\n",
    "    ray_trafo, log_dir=LOG_DIR,\n",
    "    save_best_learned_params_path=SAVE_BEST_LEARNED_PARAMS_PATH)"
   ]
  },
  {
   "cell_type": "code",
   "execution_count": 7,
   "metadata": {},
   "outputs": [
    {
     "data": {
      "text/plain": [
       "{'epochs': 20,\n",
       " 'batch_size': 64,\n",
       " 'lr': 0.001,\n",
       " 'normalize_by_opnorm': False,\n",
       " 'scales': 5,\n",
       " 'skip_channels': 4,\n",
       " 'channels': (32, 32, 64, 64, 128, 128),\n",
       " 'filter_type': 'Hann',\n",
       " 'frequency_scaling': 1.0,\n",
       " 'use_sigmoid': False,\n",
       " 'init_bias_zero': True,\n",
       " 'scheduler': 'cosine',\n",
       " 'lr_min': 0.0001}"
      ]
     },
     "execution_count": 7,
     "metadata": {},
     "output_type": "execute_result"
    }
   ],
   "source": [
    "reconstructor.hyper_params"
   ]
  },
  {
   "cell_type": "code",
   "execution_count": 8,
   "metadata": {},
   "outputs": [],
   "source": [
    "reconstructor.hyper_params['scales'] = 4\n",
    "reconstructor.hyper_params['skip_channels'] = 3"
   ]
  },
  {
   "cell_type": "code",
   "execution_count": 9,
   "metadata": {},
   "outputs": [],
   "source": [
    "reconstructor.init_model()"
   ]
  },
  {
   "cell_type": "code",
   "execution_count": 10,
   "metadata": {
    "scrolled": true
   },
   "outputs": [
    {
     "data": {
      "text/plain": [
       "DataParallel(\n",
       "  (module): UNet(\n",
       "    (down): ModuleList(\n",
       "      (0): DownBlock(\n",
       "        (conv): Sequential(\n",
       "          (0): Conv2d(32, 32, kernel_size=(3, 3), stride=(2, 2), padding=(1, 1))\n",
       "          (1): BatchNorm2d(32, eps=1e-05, momentum=0.1, affine=True, track_running_stats=True)\n",
       "          (2): LeakyReLU(negative_slope=0.2, inplace=True)\n",
       "          (3): Conv2d(32, 32, kernel_size=(3, 3), stride=(1, 1), padding=(1, 1))\n",
       "          (4): BatchNorm2d(32, eps=1e-05, momentum=0.1, affine=True, track_running_stats=True)\n",
       "          (5): LeakyReLU(negative_slope=0.2, inplace=True)\n",
       "        )\n",
       "      )\n",
       "      (1): DownBlock(\n",
       "        (conv): Sequential(\n",
       "          (0): Conv2d(32, 64, kernel_size=(3, 3), stride=(2, 2), padding=(1, 1))\n",
       "          (1): BatchNorm2d(64, eps=1e-05, momentum=0.1, affine=True, track_running_stats=True)\n",
       "          (2): LeakyReLU(negative_slope=0.2, inplace=True)\n",
       "          (3): Conv2d(64, 64, kernel_size=(3, 3), stride=(1, 1), padding=(1, 1))\n",
       "          (4): BatchNorm2d(64, eps=1e-05, momentum=0.1, affine=True, track_running_stats=True)\n",
       "          (5): LeakyReLU(negative_slope=0.2, inplace=True)\n",
       "        )\n",
       "      )\n",
       "      (2): DownBlock(\n",
       "        (conv): Sequential(\n",
       "          (0): Conv2d(64, 64, kernel_size=(3, 3), stride=(2, 2), padding=(1, 1))\n",
       "          (1): BatchNorm2d(64, eps=1e-05, momentum=0.1, affine=True, track_running_stats=True)\n",
       "          (2): LeakyReLU(negative_slope=0.2, inplace=True)\n",
       "          (3): Conv2d(64, 64, kernel_size=(3, 3), stride=(1, 1), padding=(1, 1))\n",
       "          (4): BatchNorm2d(64, eps=1e-05, momentum=0.1, affine=True, track_running_stats=True)\n",
       "          (5): LeakyReLU(negative_slope=0.2, inplace=True)\n",
       "        )\n",
       "      )\n",
       "    )\n",
       "    (up): ModuleList(\n",
       "      (0): UpBlock(\n",
       "        (conv): Sequential(\n",
       "          (0): BatchNorm2d(67, eps=1e-05, momentum=0.1, affine=True, track_running_stats=True)\n",
       "          (1): Conv2d(67, 64, kernel_size=(3, 3), stride=(1, 1), padding=(1, 1))\n",
       "          (2): BatchNorm2d(64, eps=1e-05, momentum=0.1, affine=True, track_running_stats=True)\n",
       "          (3): LeakyReLU(negative_slope=0.2, inplace=True)\n",
       "          (4): Conv2d(64, 64, kernel_size=(3, 3), stride=(1, 1), padding=(1, 1))\n",
       "          (5): BatchNorm2d(64, eps=1e-05, momentum=0.1, affine=True, track_running_stats=True)\n",
       "          (6): LeakyReLU(negative_slope=0.2, inplace=True)\n",
       "        )\n",
       "        (skip_conv): Sequential(\n",
       "          (0): Conv2d(64, 3, kernel_size=(1, 1), stride=(1, 1))\n",
       "          (1): BatchNorm2d(3, eps=1e-05, momentum=0.1, affine=True, track_running_stats=True)\n",
       "          (2): LeakyReLU(negative_slope=0.2, inplace=True)\n",
       "        )\n",
       "        (up): Upsample(scale_factor=2.0, mode=bilinear)\n",
       "        (concat): Concat()\n",
       "      )\n",
       "      (1): UpBlock(\n",
       "        (conv): Sequential(\n",
       "          (0): BatchNorm2d(67, eps=1e-05, momentum=0.1, affine=True, track_running_stats=True)\n",
       "          (1): Conv2d(67, 32, kernel_size=(3, 3), stride=(1, 1), padding=(1, 1))\n",
       "          (2): BatchNorm2d(32, eps=1e-05, momentum=0.1, affine=True, track_running_stats=True)\n",
       "          (3): LeakyReLU(negative_slope=0.2, inplace=True)\n",
       "          (4): Conv2d(32, 32, kernel_size=(3, 3), stride=(1, 1), padding=(1, 1))\n",
       "          (5): BatchNorm2d(32, eps=1e-05, momentum=0.1, affine=True, track_running_stats=True)\n",
       "          (6): LeakyReLU(negative_slope=0.2, inplace=True)\n",
       "        )\n",
       "        (skip_conv): Sequential(\n",
       "          (0): Conv2d(32, 3, kernel_size=(1, 1), stride=(1, 1))\n",
       "          (1): BatchNorm2d(3, eps=1e-05, momentum=0.1, affine=True, track_running_stats=True)\n",
       "          (2): LeakyReLU(negative_slope=0.2, inplace=True)\n",
       "        )\n",
       "        (up): Upsample(scale_factor=2.0, mode=bilinear)\n",
       "        (concat): Concat()\n",
       "      )\n",
       "      (2): UpBlock(\n",
       "        (conv): Sequential(\n",
       "          (0): BatchNorm2d(35, eps=1e-05, momentum=0.1, affine=True, track_running_stats=True)\n",
       "          (1): Conv2d(35, 32, kernel_size=(3, 3), stride=(1, 1), padding=(1, 1))\n",
       "          (2): BatchNorm2d(32, eps=1e-05, momentum=0.1, affine=True, track_running_stats=True)\n",
       "          (3): LeakyReLU(negative_slope=0.2, inplace=True)\n",
       "          (4): Conv2d(32, 32, kernel_size=(3, 3), stride=(1, 1), padding=(1, 1))\n",
       "          (5): BatchNorm2d(32, eps=1e-05, momentum=0.1, affine=True, track_running_stats=True)\n",
       "          (6): LeakyReLU(negative_slope=0.2, inplace=True)\n",
       "        )\n",
       "        (skip_conv): Sequential(\n",
       "          (0): Conv2d(32, 3, kernel_size=(1, 1), stride=(1, 1))\n",
       "          (1): BatchNorm2d(3, eps=1e-05, momentum=0.1, affine=True, track_running_stats=True)\n",
       "          (2): LeakyReLU(negative_slope=0.2, inplace=True)\n",
       "        )\n",
       "        (up): Upsample(scale_factor=2.0, mode=bilinear)\n",
       "        (concat): Concat()\n",
       "      )\n",
       "    )\n",
       "    (inc): InBlock(\n",
       "      (conv): Sequential(\n",
       "        (0): Conv2d(1, 32, kernel_size=(3, 3), stride=(1, 1), padding=(1, 1))\n",
       "        (1): BatchNorm2d(32, eps=1e-05, momentum=0.1, affine=True, track_running_stats=True)\n",
       "        (2): LeakyReLU(negative_slope=0.2, inplace=True)\n",
       "      )\n",
       "    )\n",
       "    (outc): OutBlock(\n",
       "      (conv): Conv2d(32, 1, kernel_size=(1, 1), stride=(1, 1))\n",
       "    )\n",
       "  )\n",
       ")"
      ]
     },
     "execution_count": 10,
     "metadata": {},
     "output_type": "execute_result"
    }
   ],
   "source": [
    "reconstructor.model"
   ]
  },
  {
   "cell_type": "code",
   "execution_count": 11,
   "metadata": {},
   "outputs": [],
   "source": [
    "def count_parameters(model):\n",
    "    return sum(p.numel() for p in model.parameters() if p.requires_grad)"
   ]
  },
  {
   "cell_type": "code",
   "execution_count": 12,
   "metadata": {},
   "outputs": [
    {
     "data": {
      "text/plain": [
       "273614"
      ]
     },
     "execution_count": 12,
     "metadata": {},
     "output_type": "execute_result"
    }
   ],
   "source": [
    "count_parameters(reconstructor.model)"
   ]
  },
  {
   "cell_type": "code",
   "execution_count": 16,
   "metadata": {},
   "outputs": [
    {
     "name": "stderr",
     "output_type": "stream",
     "text": [
      "/home/tbuchhol/Programs/miniconda3/envs/ft/lib/python3.7/site-packages/dival/reconstructors/fbpunet_reconstructor.py:100: UserWarning: Dataset does not support random access. Shuffling will not work, and only 1 worker will be used for data loading.\n",
      "  warn('Dataset does not support random access. Shuffling will not '\n",
      "epoch 1: 100%|██████████| 860/860 [03:13<00:00,  4.45it/s, phase=train, loss=0.0303, psnr=27.1]\n",
      "epoch 1: 100%|██████████| 79/79 [00:17<00:00,  4.56it/s, phase=validation, loss=0.0158, psnr=29.2]\n",
      "epoch 2: 100%|██████████| 860/860 [03:09<00:00,  4.54it/s, phase=train, loss=0.0152, psnr=29.5]\n",
      "epoch 2: 100%|██████████| 79/79 [00:17<00:00,  4.52it/s, phase=validation, loss=0.0123, psnr=30.4]\n",
      "epoch 3: 100%|██████████| 860/860 [03:11<00:00,  4.49it/s, phase=train, loss=0.013, psnr=30.2] \n",
      "epoch 3: 100%|██████████| 79/79 [00:16<00:00,  4.73it/s, phase=validation, loss=0.0113, psnr=30.8]\n",
      "epoch 4: 100%|██████████| 860/860 [03:03<00:00,  4.69it/s, phase=train, loss=0.0118, psnr=30.6]\n",
      "epoch 4: 100%|██████████| 79/79 [00:17<00:00,  4.57it/s, phase=validation, loss=0.0104, psnr=31.2]\n",
      "epoch 5: 100%|██████████| 860/860 [03:08<00:00,  4.57it/s, phase=train, loss=0.0109, psnr=31]  \n",
      "epoch 5: 100%|██████████| 79/79 [00:16<00:00,  4.87it/s, phase=validation, loss=0.00978, psnr=31.5]\n",
      "epoch 6: 100%|██████████| 860/860 [03:06<00:00,  4.60it/s, phase=train, loss=0.0101, psnr=31.3]\n",
      "epoch 6: 100%|██████████| 79/79 [00:17<00:00,  4.53it/s, phase=validation, loss=0.00907, psnr=31.8]\n",
      "epoch 7: 100%|██████████| 860/860 [03:00<00:00,  4.77it/s, phase=train, loss=0.00937, psnr=31.7]\n",
      "epoch 7: 100%|██████████| 79/79 [00:16<00:00,  4.72it/s, phase=validation, loss=0.00867, psnr=32] \n",
      "epoch 8: 100%|██████████| 860/860 [03:07<00:00,  4.59it/s, phase=train, loss=0.00859, psnr=32.1]\n",
      "epoch 8: 100%|██████████| 79/79 [00:16<00:00,  4.73it/s, phase=validation, loss=0.00815, psnr=32.3]\n",
      "epoch 9: 100%|██████████| 860/860 [03:06<00:00,  4.60it/s, phase=train, loss=0.00809, psnr=32.4]\n",
      "epoch 9: 100%|██████████| 79/79 [00:16<00:00,  4.66it/s, phase=validation, loss=0.00793, psnr=32.5]\n",
      "epoch 10: 100%|██████████| 860/860 [03:06<00:00,  4.61it/s, phase=train, loss=0.00783, psnr=32.5]\n",
      "epoch 10: 100%|██████████| 79/79 [00:16<00:00,  4.83it/s, phase=validation, loss=0.00775, psnr=32.6]\n",
      "epoch 11: 100%|██████████| 860/860 [02:57<00:00,  4.85it/s, phase=train, loss=0.00767, psnr=32.6]\n",
      "epoch 11: 100%|██████████| 79/79 [00:16<00:00,  4.76it/s, phase=validation, loss=0.00764, psnr=32.6]\n",
      "epoch 12: 100%|██████████| 860/860 [03:04<00:00,  4.67it/s, phase=train, loss=0.00758, psnr=32.7]\n",
      "epoch 12: 100%|██████████| 79/79 [00:16<00:00,  4.85it/s, phase=validation, loss=0.00756, psnr=32.7]\n",
      "epoch 13: 100%|██████████| 860/860 [02:55<00:00,  4.91it/s, phase=train, loss=0.00757, psnr=32.7]\n",
      "epoch 13: 100%|██████████| 79/79 [00:16<00:00,  4.79it/s, phase=validation, loss=0.00751, psnr=32.7]\n",
      "epoch 14: 100%|██████████| 860/860 [03:01<00:00,  4.73it/s, phase=train, loss=0.00762, psnr=32.6]\n",
      "epoch 14: 100%|██████████| 79/79 [00:16<00:00,  4.89it/s, phase=validation, loss=0.00751, psnr=32.7]\n",
      "epoch 15: 100%|██████████| 860/860 [03:01<00:00,  4.74it/s, phase=train, loss=0.00768, psnr=32.6]\n",
      "epoch 15: 100%|██████████| 79/79 [00:16<00:00,  4.68it/s, phase=validation, loss=0.00763, psnr=32.6]\n",
      "epoch 16: 100%|██████████| 860/860 [02:56<00:00,  4.86it/s, phase=train, loss=0.0077, psnr=32.6] \n",
      "epoch 16: 100%|██████████| 79/79 [00:16<00:00,  4.77it/s, phase=validation, loss=0.00765, psnr=32.6]\n",
      "epoch 17: 100%|██████████| 860/860 [03:02<00:00,  4.72it/s, phase=train, loss=0.00771, psnr=32.6]\n",
      "epoch 17: 100%|██████████| 79/79 [00:16<00:00,  4.82it/s, phase=validation, loss=0.0078, psnr=32.5] \n",
      "epoch 18: 100%|██████████| 860/860 [03:12<00:00,  4.46it/s, phase=train, loss=0.00766, psnr=32.6]\n",
      "epoch 18: 100%|██████████| 79/79 [00:17<00:00,  4.58it/s, phase=validation, loss=0.00769, psnr=32.6]\n",
      "epoch 19: 100%|██████████| 860/860 [03:01<00:00,  4.74it/s, phase=train, loss=0.00759, psnr=32.6]\n",
      "epoch 19: 100%|██████████| 79/79 [00:16<00:00,  4.82it/s, phase=validation, loss=0.00747, psnr=32.7]\n",
      "epoch 20: 100%|██████████| 860/860 [03:05<00:00,  4.63it/s, phase=train, loss=0.00745, psnr=32.7]\n",
      "epoch 20: 100%|██████████| 79/79 [00:16<00:00,  4.74it/s, phase=validation, loss=0.00773, psnr=32.5]"
     ]
    },
    {
     "name": "stdout",
     "output_type": "stream",
     "text": [
      "Best val psnr: 32.717476\n"
     ]
    },
    {
     "name": "stderr",
     "output_type": "stream",
     "text": [
      "\n"
     ]
    }
   ],
   "source": [
    "#%% train\n",
    "# reduce the batch size here if the model does not fit into GPU memory\n",
    "# reconstructor.batch_size = 16\n",
    "reconstructor.train(dm.gt_ds)"
   ]
  },
  {
   "cell_type": "code",
   "execution_count": 17,
   "metadata": {},
   "outputs": [],
   "source": [
    "reconstructor.load_learned_params('dival_params/mnist_fbpunet.pt')"
   ]
  },
  {
   "cell_type": "code",
   "execution_count": 28,
   "metadata": {},
   "outputs": [],
   "source": [
    "#%% evaluate\n",
    "test = dm.gt_ds.get_test_generator()\n",
    "recos = []\n",
    "psnrs = []\n",
    "for obs, gt in test:\n",
    "    reco = reconstructor.reconstruct(obs)\n",
    "    recos.append(reco)\n",
    "    psnrs.append(PSNR(denormalize(gt, dm.mean, dm.std), \n",
    "                      denormalize(torch.from_numpy(reco.asarray()), dm.mean, dm.std), \n",
    "                      drange=torch.tensor(255., dtype=torch.float32)))"
   ]
  },
  {
   "cell_type": "code",
   "execution_count": 29,
   "metadata": {},
   "outputs": [
    {
     "name": "stdout",
     "output_type": "stream",
     "text": [
      "mean psnr: 32.791; SEM: 0.023\n"
     ]
    }
   ],
   "source": [
    "print('mean psnr: {:2.3f}; SEM: {:2.3f}'.format(np.mean(psnrs), np.std(psnrs)/np.sqrt(len(psnrs))))"
   ]
  },
  {
   "cell_type": "code",
   "execution_count": 30,
   "metadata": {},
   "outputs": [
    {
     "data": {
      "image/png": "[encoded data removed]",
      "text/plain": [
       "<Figure size 720x288 with 3 Axes>"
      ]
     },
     "metadata": {
      "needs_background": "light"
     },
     "output_type": "display_data"
    },
    {
     "data": {
      "image/png": "[encoded data removed]",
      "text/plain": [
       "<Figure size 720x288 with 3 Axes>"
      ]
     },
     "metadata": {
      "needs_background": "light"
     },
     "output_type": "display_data"
    },
    {
     "data": {
      "image/png": "[encoded data removed]",
      "text/plain": [
       "<Figure size 720x288 with 3 Axes>"
      ]
     },
     "metadata": {
      "needs_background": "light"
     },
     "output_type": "display_data"
    }
   ],
   "source": [
    "for i, (obs, gt) in zip(range(3), dm.gt_ds.get_test_generator()):\n",
    "    _, ax = plot_images([recos[i].asarray().T, gt.T],\n",
    "                        fig_size=(10, 4))\n",
    "    ax[0].set_xlabel('PSNR: {:.2f}'.format(psnrs[i]))\n",
    "    ax[0].set_title('FBPUNetReconstructor')\n",
    "    ax[1].set_title('ground truth')\n",
    "    ax[0].figure.suptitle('test sample {:d}'.format(i))"
   ]
  }
 ],
 "metadata": {
  "kernelspec": {
   "display_name": "Python 3",
   "language": "python",
   "name": "python3"
  },
  "language_info": {
   "codemirror_mode": {
    "name": "ipython",
    "version": 3
   },
   "file_extension": ".py",
   "mimetype": "text/x-python",
   "name": "python",
   "nbconvert_exporter": "python",
   "pygments_lexer": "ipython3",
   "version": "3.7.9"
  }
 },
 "nbformat": 4,
 "nbformat_minor": 4
}
