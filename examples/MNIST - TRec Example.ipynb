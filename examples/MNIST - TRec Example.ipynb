{
 "cells": [
  {
   "cell_type": "code",
   "execution_count": 1,
   "metadata": {},
   "outputs": [],
   "source": [
    "from fit.datamodules.tomo_rec import MNISTTomoFourierTargetDataModule\n",
    "from fit.utils import convert2FC, fft_interpolate\n",
    "from fit.utils.tomo_utils import get_proj_coords, get_img_coords\n",
    "\n",
    "from fit.modules import TRecTransformerModule\n",
    "\n",
    "from matplotlib import pyplot as plt\n",
    "\n",
    "import torch\n",
    "\n",
    "import numpy as np\n",
    "\n",
    "from pytorch_lightning import Trainer, seed_everything\n",
    "from pytorch_lightning.callbacks import ModelCheckpoint"
   ]
  },
  {
   "cell_type": "code",
   "execution_count": 2,
   "metadata": {},
   "outputs": [
    {
     "data": {
      "text/plain": [
       "22122020"
      ]
     },
     "execution_count": 2,
     "metadata": {},
     "output_type": "execute_result"
    }
   ],
   "source": [
    "seed_everything(22122020)"
   ]
  },
  {
   "cell_type": "code",
   "execution_count": 3,
   "metadata": {},
   "outputs": [],
   "source": [
    "dm = MNISTTomoFourierTargetDataModule(root_dir='/home/tibuch/Data/mnist/', batch_size=16, num_angles=15)\n",
    "dm.setup()"
   ]
  },
  {
   "cell_type": "code",
   "execution_count": 4,
   "metadata": {},
   "outputs": [],
   "source": [
    "train_dl = dm.train_dataloader()\n",
    "val_dl = dm.val_dataloader()\n",
    "test_dl = dm.test_dataloader()"
   ]
  },
  {
   "cell_type": "code",
   "execution_count": 5,
   "metadata": {},
   "outputs": [],
   "source": [
    "proj_xcoords, proj_ycoords = get_proj_coords(angles=dm.gt_ds.get_ray_trafo().geometry.angles, \n",
    "                                             img_shape=dm.IMG_SHAPE)\n",
    "target_xcoords, target_ycoords = get_img_coords(img_shape=dm.IMG_SHAPE, endpoint=False)"
   ]
  },
  {
   "cell_type": "code",
   "execution_count": 6,
   "metadata": {},
   "outputs": [],
   "source": [
    "model = TRecTransformerModule(d_model=128, y_coords_proj=proj_ycoords, x_coords_proj=proj_xcoords,\n",
    "                             y_coords_img=target_ycoords, x_coords_img=target_xcoords, \n",
    "                             angles=dm.gt_ds.get_ray_trafo().geometry.angles, img_shape=dm.IMG_SHAPE,\n",
    "                             lr=0.0001, weight_decay=0.01, loss_switch=0.4, attention_type='linear', n_layers=4,\n",
    "                             n_heads=4, d_query=128//4, dropout=0.1, attention_dropout=0.1)"
   ]
  },
  {
   "cell_type": "code",
   "execution_count": 7,
   "metadata": {},
   "outputs": [
    {
     "name": "stderr",
     "output_type": "stream",
     "text": [
      "GPU available: True, used: True\n",
      "TPU available: None, using: 0 TPU cores\n",
      "LOCAL_RANK: 0 - CUDA_VISIBLE_DEVICES: [0]\n"
     ]
    }
   ],
   "source": [
    "trainer = Trainer(max_epochs=5, \n",
    "                  gpus=1, limit_train_batches=100, limit_val_batches=10,\n",
    "                  checkpoint_callback=ModelCheckpoint(\n",
    "                                            filepath=None,\n",
    "                                            save_top_k=1,\n",
    "                                            verbose=False,\n",
    "                                            save_last=True,\n",
    "                                            monitor='Train/avg_val_loss',\n",
    "                                            mode='min',\n",
    "                                            prefix='best_val_loss_'\n",
    "                                        ), \n",
    "                  deterministic=True)"
   ]
  },
  {
   "cell_type": "code",
   "execution_count": 8,
   "metadata": {},
   "outputs": [
    {
     "data": {
      "text/plain": [
       "TRecTransformer(\n",
       "  (fourier_coefficient_embedding): Linear(in_features=2, out_features=64, bias=True)\n",
       "  (pos_embedding_input_projections): PositionalEncoding2D(\n",
       "    (dropout): Dropout(p=0.0, inplace=False)\n",
       "  )\n",
       "  (encoder): TransformerEncoder(\n",
       "    (layers): ModuleList(\n",
       "      (0): TransformerEncoderLayer(\n",
       "        (attention): AttentionLayer(\n",
       "          (inner_attention): LinearAttention(\n",
       "            (feature_map): ActivationFunctionFeatureMap()\n",
       "          )\n",
       "          (query_projection): Linear(in_features=128, out_features=128, bias=True)\n",
       "          (key_projection): Linear(in_features=128, out_features=128, bias=True)\n",
       "          (value_projection): Linear(in_features=128, out_features=128, bias=True)\n",
       "          (out_projection): Linear(in_features=128, out_features=128, bias=True)\n",
       "        )\n",
       "        (linear1): Linear(in_features=128, out_features=512, bias=True)\n",
       "        (linear2): Linear(in_features=512, out_features=128, bias=True)\n",
       "        (norm1): LayerNorm((128,), eps=1e-05, elementwise_affine=True)\n",
       "        (norm2): LayerNorm((128,), eps=1e-05, elementwise_affine=True)\n",
       "        (dropout): Dropout(p=0.1, inplace=False)\n",
       "      )\n",
       "      (1): TransformerEncoderLayer(\n",
       "        (attention): AttentionLayer(\n",
       "          (inner_attention): LinearAttention(\n",
       "            (feature_map): ActivationFunctionFeatureMap()\n",
       "          )\n",
       "          (query_projection): Linear(in_features=128, out_features=128, bias=True)\n",
       "          (key_projection): Linear(in_features=128, out_features=128, bias=True)\n",
       "          (value_projection): Linear(in_features=128, out_features=128, bias=True)\n",
       "          (out_projection): Linear(in_features=128, out_features=128, bias=True)\n",
       "        )\n",
       "        (linear1): Linear(in_features=128, out_features=512, bias=True)\n",
       "        (linear2): Linear(in_features=512, out_features=128, bias=True)\n",
       "        (norm1): LayerNorm((128,), eps=1e-05, elementwise_affine=True)\n",
       "        (norm2): LayerNorm((128,), eps=1e-05, elementwise_affine=True)\n",
       "        (dropout): Dropout(p=0.1, inplace=False)\n",
       "      )\n",
       "      (2): TransformerEncoderLayer(\n",
       "        (attention): AttentionLayer(\n",
       "          (inner_attention): LinearAttention(\n",
       "            (feature_map): ActivationFunctionFeatureMap()\n",
       "          )\n",
       "          (query_projection): Linear(in_features=128, out_features=128, bias=True)\n",
       "          (key_projection): Linear(in_features=128, out_features=128, bias=True)\n",
       "          (value_projection): Linear(in_features=128, out_features=128, bias=True)\n",
       "          (out_projection): Linear(in_features=128, out_features=128, bias=True)\n",
       "        )\n",
       "        (linear1): Linear(in_features=128, out_features=512, bias=True)\n",
       "        (linear2): Linear(in_features=512, out_features=128, bias=True)\n",
       "        (norm1): LayerNorm((128,), eps=1e-05, elementwise_affine=True)\n",
       "        (norm2): LayerNorm((128,), eps=1e-05, elementwise_affine=True)\n",
       "        (dropout): Dropout(p=0.1, inplace=False)\n",
       "      )\n",
       "      (3): TransformerEncoderLayer(\n",
       "        (attention): AttentionLayer(\n",
       "          (inner_attention): LinearAttention(\n",
       "            (feature_map): ActivationFunctionFeatureMap()\n",
       "          )\n",
       "          (query_projection): Linear(in_features=128, out_features=128, bias=True)\n",
       "          (key_projection): Linear(in_features=128, out_features=128, bias=True)\n",
       "          (value_projection): Linear(in_features=128, out_features=128, bias=True)\n",
       "          (out_projection): Linear(in_features=128, out_features=128, bias=True)\n",
       "        )\n",
       "        (linear1): Linear(in_features=128, out_features=512, bias=True)\n",
       "        (linear2): Linear(in_features=512, out_features=128, bias=True)\n",
       "        (norm1): LayerNorm((128,), eps=1e-05, elementwise_affine=True)\n",
       "        (norm2): LayerNorm((128,), eps=1e-05, elementwise_affine=True)\n",
       "        (dropout): Dropout(p=0.1, inplace=False)\n",
       "      )\n",
       "    )\n",
       "    (norm): LayerNorm((128,), eps=1e-05, elementwise_affine=True)\n",
       "  )\n",
       "  (pos_embedding_target): PositionalEncoding2D(\n",
       "    (dropout): Dropout(p=0.0, inplace=False)\n",
       "  )\n",
       "  (decoder): TransformerDecoder(\n",
       "    (layers): ModuleList(\n",
       "      (0): TransformerDecoderLayer(\n",
       "        (self_attention): AttentionLayer(\n",
       "          (inner_attention): LinearAttention(\n",
       "            (feature_map): ActivationFunctionFeatureMap()\n",
       "          )\n",
       "          (query_projection): Linear(in_features=128, out_features=128, bias=True)\n",
       "          (key_projection): Linear(in_features=128, out_features=128, bias=True)\n",
       "          (value_projection): Linear(in_features=128, out_features=128, bias=True)\n",
       "          (out_projection): Linear(in_features=128, out_features=128, bias=True)\n",
       "        )\n",
       "        (cross_attention): AttentionLayer(\n",
       "          (inner_attention): LinearAttention(\n",
       "            (feature_map): ActivationFunctionFeatureMap()\n",
       "          )\n",
       "          (query_projection): Linear(in_features=128, out_features=128, bias=True)\n",
       "          (key_projection): Linear(in_features=128, out_features=128, bias=True)\n",
       "          (value_projection): Linear(in_features=128, out_features=128, bias=True)\n",
       "          (out_projection): Linear(in_features=128, out_features=128, bias=True)\n",
       "        )\n",
       "        (linear1): Linear(in_features=128, out_features=512, bias=True)\n",
       "        (linear2): Linear(in_features=512, out_features=128, bias=True)\n",
       "        (norm1): LayerNorm((128,), eps=1e-05, elementwise_affine=True)\n",
       "        (norm2): LayerNorm((128,), eps=1e-05, elementwise_affine=True)\n",
       "        (norm3): LayerNorm((128,), eps=1e-05, elementwise_affine=True)\n",
       "        (dropout): Dropout(p=0.1, inplace=False)\n",
       "      )\n",
       "      (1): TransformerDecoderLayer(\n",
       "        (self_attention): AttentionLayer(\n",
       "          (inner_attention): LinearAttention(\n",
       "            (feature_map): ActivationFunctionFeatureMap()\n",
       "          )\n",
       "          (query_projection): Linear(in_features=128, out_features=128, bias=True)\n",
       "          (key_projection): Linear(in_features=128, out_features=128, bias=True)\n",
       "          (value_projection): Linear(in_features=128, out_features=128, bias=True)\n",
       "          (out_projection): Linear(in_features=128, out_features=128, bias=True)\n",
       "        )\n",
       "        (cross_attention): AttentionLayer(\n",
       "          (inner_attention): LinearAttention(\n",
       "            (feature_map): ActivationFunctionFeatureMap()\n",
       "          )\n",
       "          (query_projection): Linear(in_features=128, out_features=128, bias=True)\n",
       "          (key_projection): Linear(in_features=128, out_features=128, bias=True)\n",
       "          (value_projection): Linear(in_features=128, out_features=128, bias=True)\n",
       "          (out_projection): Linear(in_features=128, out_features=128, bias=True)\n",
       "        )\n",
       "        (linear1): Linear(in_features=128, out_features=512, bias=True)\n",
       "        (linear2): Linear(in_features=512, out_features=128, bias=True)\n",
       "        (norm1): LayerNorm((128,), eps=1e-05, elementwise_affine=True)\n",
       "        (norm2): LayerNorm((128,), eps=1e-05, elementwise_affine=True)\n",
       "        (norm3): LayerNorm((128,), eps=1e-05, elementwise_affine=True)\n",
       "        (dropout): Dropout(p=0.1, inplace=False)\n",
       "      )\n",
       "      (2): TransformerDecoderLayer(\n",
       "        (self_attention): AttentionLayer(\n",
       "          (inner_attention): LinearAttention(\n",
       "            (feature_map): ActivationFunctionFeatureMap()\n",
       "          )\n",
       "          (query_projection): Linear(in_features=128, out_features=128, bias=True)\n",
       "          (key_projection): Linear(in_features=128, out_features=128, bias=True)\n",
       "          (value_projection): Linear(in_features=128, out_features=128, bias=True)\n",
       "          (out_projection): Linear(in_features=128, out_features=128, bias=True)\n",
       "        )\n",
       "        (cross_attention): AttentionLayer(\n",
       "          (inner_attention): LinearAttention(\n",
       "            (feature_map): ActivationFunctionFeatureMap()\n",
       "          )\n",
       "          (query_projection): Linear(in_features=128, out_features=128, bias=True)\n",
       "          (key_projection): Linear(in_features=128, out_features=128, bias=True)\n",
       "          (value_projection): Linear(in_features=128, out_features=128, bias=True)\n",
       "          (out_projection): Linear(in_features=128, out_features=128, bias=True)\n",
       "        )\n",
       "        (linear1): Linear(in_features=128, out_features=512, bias=True)\n",
       "        (linear2): Linear(in_features=512, out_features=128, bias=True)\n",
       "        (norm1): LayerNorm((128,), eps=1e-05, elementwise_affine=True)\n",
       "        (norm2): LayerNorm((128,), eps=1e-05, elementwise_affine=True)\n",
       "        (norm3): LayerNorm((128,), eps=1e-05, elementwise_affine=True)\n",
       "        (dropout): Dropout(p=0.1, inplace=False)\n",
       "      )\n",
       "      (3): TransformerDecoderLayer(\n",
       "        (self_attention): AttentionLayer(\n",
       "          (inner_attention): LinearAttention(\n",
       "            (feature_map): ActivationFunctionFeatureMap()\n",
       "          )\n",
       "          (query_projection): Linear(in_features=128, out_features=128, bias=True)\n",
       "          (key_projection): Linear(in_features=128, out_features=128, bias=True)\n",
       "          (value_projection): Linear(in_features=128, out_features=128, bias=True)\n",
       "          (out_projection): Linear(in_features=128, out_features=128, bias=True)\n",
       "        )\n",
       "        (cross_attention): AttentionLayer(\n",
       "          (inner_attention): LinearAttention(\n",
       "            (feature_map): ActivationFunctionFeatureMap()\n",
       "          )\n",
       "          (query_projection): Linear(in_features=128, out_features=128, bias=True)\n",
       "          (key_projection): Linear(in_features=128, out_features=128, bias=True)\n",
       "          (value_projection): Linear(in_features=128, out_features=128, bias=True)\n",
       "          (out_projection): Linear(in_features=128, out_features=128, bias=True)\n",
       "        )\n",
       "        (linear1): Linear(in_features=128, out_features=512, bias=True)\n",
       "        (linear2): Linear(in_features=512, out_features=128, bias=True)\n",
       "        (norm1): LayerNorm((128,), eps=1e-05, elementwise_affine=True)\n",
       "        (norm2): LayerNorm((128,), eps=1e-05, elementwise_affine=True)\n",
       "        (norm3): LayerNorm((128,), eps=1e-05, elementwise_affine=True)\n",
       "        (dropout): Dropout(p=0.1, inplace=False)\n",
       "      )\n",
       "    )\n",
       "    (norm): LayerNorm((128,), eps=1e-05, elementwise_affine=True)\n",
       "  )\n",
       "  (predictor): Linear(in_features=128, out_features=2, bias=True)\n",
       ")"
      ]
     },
     "execution_count": 8,
     "metadata": {},
     "output_type": "execute_result"
    }
   ],
   "source": [
    "model.trec"
   ]
  },
  {
   "cell_type": "code",
   "execution_count": 9,
   "metadata": {
    "scrolled": false
   },
   "outputs": [
    {
     "name": "stderr",
     "output_type": "stream",
     "text": [
      "\n",
      "  | Name | Type            | Params\n",
      "-----------------------------------------\n",
      "0 | trec | TRecTransformer | 1.9 M \n",
      "-----------------------------------------\n",
      "1.9 M     Trainable params\n",
      "0         Non-trainable params\n",
      "1.9 M     Total params\n",
      "/home/tibuch/Applications/miniconda3/envs/fit/lib/python3.7/site-packages/pytorch_lightning/utilities/distributed.py:49: UserWarning: The dataloader, val dataloader 0, does not have many workers which may be a bottleneck. Consider increasing the value of the `num_workers` argument` (try 8 which is the number of cpus on this machine) in the `DataLoader` init to improve performance.\n",
      "  warnings.warn(*args, **kwargs)\n"
     ]
    },
    {
     "data": {
      "application/vnd.jupyter.widget-view+json": {
       "model_id": "",
       "version_major": 2,
       "version_minor": 0
      },
      "text/plain": [
       "HBox(children=(HTML(value='Validation sanity check'), FloatProgress(value=1.0, bar_style='info', layout=Layout…"
      ]
     },
     "metadata": {},
     "output_type": "display_data"
    },
    {
     "name": "stderr",
     "output_type": "stream",
     "text": [
      "/home/tibuch/Applications/miniconda3/envs/fit/lib/python3.7/site-packages/pytorch_lightning/utilities/distributed.py:49: UserWarning: The dataloader, train dataloader, does not have many workers which may be a bottleneck. Consider increasing the value of the `num_workers` argument` (try 8 which is the number of cpus on this machine) in the `DataLoader` init to improve performance.\n",
      "  warnings.warn(*args, **kwargs)\n"
     ]
    },
    {
     "data": {
      "application/vnd.jupyter.widget-view+json": {
       "model_id": "736113f1191a444abffd27bf970b42e6",
       "version_major": 2,
       "version_minor": 0
      },
      "text/plain": [
       "HBox(children=(HTML(value='Training'), FloatProgress(value=1.0, bar_style='info', layout=Layout(flex='2'), max…"
      ]
     },
     "metadata": {},
     "output_type": "display_data"
    },
    {
     "name": "stderr",
     "output_type": "stream",
     "text": [
      "/home/tibuch/Gitrepos/FourierImageTransformer/fit/utils/RAdam.py:119: UserWarning: This overload of addcmul_ is deprecated:\n",
      "\taddcmul_(Number value, Tensor tensor1, Tensor tensor2)\n",
      "Consider using one of the following signatures instead:\n",
      "\taddcmul_(Tensor tensor1, Tensor tensor2, *, Number value) (Triggered internally at  /opt/conda/conda-bld/pytorch_1607370128159/work/torch/csrc/utils/python_arg_parser.cpp:882.)\n",
      "  exp_avg_sq.mul_(beta2).addcmul_(1 - beta2, grad, grad)\n"
     ]
    },
    {
     "data": {
      "application/vnd.jupyter.widget-view+json": {
       "model_id": "",
       "version_major": 2,
       "version_minor": 0
      },
      "text/plain": [
       "HBox(children=(HTML(value='Validating'), FloatProgress(value=1.0, bar_style='info', layout=Layout(flex='2'), m…"
      ]
     },
     "metadata": {},
     "output_type": "display_data"
    },
    {
     "data": {
      "application/vnd.jupyter.widget-view+json": {
       "model_id": "",
       "version_major": 2,
       "version_minor": 0
      },
      "text/plain": [
       "HBox(children=(HTML(value='Validating'), FloatProgress(value=1.0, bar_style='info', layout=Layout(flex='2'), m…"
      ]
     },
     "metadata": {},
     "output_type": "display_data"
    },
    {
     "name": "stdout",
     "output_type": "stream",
     "text": [
      "Epoch 2/4: Switched to real loss.\n"
     ]
    },
    {
     "data": {
      "application/vnd.jupyter.widget-view+json": {
       "model_id": "",
       "version_major": 2,
       "version_minor": 0
      },
      "text/plain": [
       "HBox(children=(HTML(value='Validating'), FloatProgress(value=1.0, bar_style='info', layout=Layout(flex='2'), m…"
      ]
     },
     "metadata": {},
     "output_type": "display_data"
    },
    {
     "data": {
      "application/vnd.jupyter.widget-view+json": {
       "model_id": "",
       "version_major": 2,
       "version_minor": 0
      },
      "text/plain": [
       "HBox(children=(HTML(value='Validating'), FloatProgress(value=1.0, bar_style='info', layout=Layout(flex='2'), m…"
      ]
     },
     "metadata": {},
     "output_type": "display_data"
    },
    {
     "data": {
      "application/vnd.jupyter.widget-view+json": {
       "model_id": "",
       "version_major": 2,
       "version_minor": 0
      },
      "text/plain": [
       "HBox(children=(HTML(value='Validating'), FloatProgress(value=1.0, bar_style='info', layout=Layout(flex='2'), m…"
      ]
     },
     "metadata": {},
     "output_type": "display_data"
    },
    {
     "name": "stderr",
     "output_type": "stream",
     "text": [
      "Saving latest checkpoint...\n"
     ]
    },
    {
     "name": "stdout",
     "output_type": "stream",
     "text": [
      "\n"
     ]
    }
   ],
   "source": [
    "trainer.fit(model, train_dl, val_dl);"
   ]
  }
 ],
 "metadata": {
  "kernelspec": {
   "display_name": "Python 3",
   "language": "python",
   "name": "python3"
  },
  "language_info": {
   "codemirror_mode": {
    "name": "ipython",
    "version": 3
   },
   "file_extension": ".py",
   "mimetype": "text/x-python",
   "name": "python",
   "nbconvert_exporter": "python",
   "pygments_lexer": "ipython3",
   "version": "3.7.9"
  }
 },
 "nbformat": 4,
 "nbformat_minor": 4
}
