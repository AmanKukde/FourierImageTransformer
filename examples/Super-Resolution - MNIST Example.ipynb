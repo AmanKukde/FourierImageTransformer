{
 "cells": [
  {
   "cell_type": "code",
   "execution_count": 1,
   "metadata": {},
   "outputs": [
    {
     "name": "stderr",
     "output_type": "stream",
     "text": [
      "/localscratch/envs/FIT_ls/lib/python3.9/site-packages/tqdm/auto.py:21: TqdmWarning: IProgress not found. Please update jupyter and ipywidgets. See https://ipywidgets.readthedocs.io/en/stable/user_install.html\n",
      "  from .autonotebook import tqdm as notebook_tqdm\n"
     ]
    }
   ],
   "source": [
    "\n",
    "import sys\n",
    "sys.path.append('../')\n",
    "from fit.datamodules.super_res import MNIST_SResFITDM\n",
    "from fit.utils.tomo_utils import get_polar_rfft_coords_2D\n",
    "\n",
    "from fit.modules.SResTransformerModule import SResTransformerModule\n",
    "\n",
    "from matplotlib import pyplot as plt\n",
    "from matplotlib import gridspec\n",
    "from fit.utils import PSNR\n",
    "\n",
    "import torch\n",
    "\n",
    "import numpy as np\n",
    "import pandas as pd\n",
    "from pytorch_lightning import Trainer, seed_everything\n",
    "from pytorch_lightning.callbacks import ModelCheckpoint\n",
    "from pytorch_lightning.loggers import WandbLogger\n",
    "\n",
    "from os.path import exists\n",
    "import wget\n",
    "import ssl\n",
    "ssl._create_default_https_context = ssl._create_unverified_context\n",
    "import scipy"
   ]
  },
  {
   "cell_type": "code",
   "execution_count": 2,
   "metadata": {},
   "outputs": [
    {
     "name": "stderr",
     "output_type": "stream",
     "text": [
      "Seed set to 22122020\n"
     ]
    },
    {
     "data": {
      "text/plain": [
       "22122020"
      ]
     },
     "execution_count": 2,
     "metadata": {},
     "output_type": "execute_result"
    }
   ],
   "source": [
    "seed_everything(22122020)"
   ]
  },
  {
   "cell_type": "code",
   "execution_count": 3,
   "metadata": {},
   "outputs": [],
   "source": [
    "dm = MNIST_SResFITDM(root_dir='./datamodules/data/', batch_size=32)\n",
    "dm.prepare_data(subset_flag=False)\n",
    "dm.setup()"
   ]
  },
  {
   "cell_type": "code",
   "execution_count": 4,
   "metadata": {},
   "outputs": [],
   "source": [
    "r, phi, flatten_order, order = get_polar_rfft_coords_2D(img_shape=dm.gt_shape)"
   ]
  },
  {
   "cell_type": "code",
   "execution_count": 5,
   "metadata": {},
   "outputs": [],
   "source": [
    "n_heads = 8\n",
    "d_query = 32"
   ]
  },
  {
   "cell_type": "code",
   "execution_count": 10,
   "metadata": {},
   "outputs": [
    {
     "ename": "TypeError",
     "evalue": "object of type 'NoneType' has no len()",
     "output_type": "error",
     "traceback": [
      "\u001b[0;31m---------------------------------------------------------------------------\u001b[0m",
      "\u001b[0;31mTypeError\u001b[0m                                 Traceback (most recent call last)",
      "Cell \u001b[0;32mIn[10], line 1\u001b[0m\n\u001b[0;32m----> 1\u001b[0m model \u001b[38;5;241m=\u001b[39m \u001b[43mSResTransformerModule\u001b[49m\u001b[43m(\u001b[49m\u001b[43md_model\u001b[49m\u001b[38;5;241;43m=\u001b[39;49m\u001b[43mn_heads\u001b[49m\u001b[38;5;241;43m*\u001b[39;49m\u001b[43md_query\u001b[49m\u001b[43m,\u001b[49m\u001b[43m \u001b[49m\n\u001b[1;32m      2\u001b[0m \u001b[43m                              \u001b[49m\u001b[43mimg_shape\u001b[49m\u001b[38;5;241;43m=\u001b[39;49m\u001b[43mdm\u001b[49m\u001b[38;5;241;43m.\u001b[39;49m\u001b[43mgt_shape\u001b[49m\u001b[43m,\u001b[49m\n\u001b[1;32m      3\u001b[0m \u001b[43m                              \u001b[49m\u001b[43mcoords\u001b[49m\u001b[38;5;241;43m=\u001b[39;49m\u001b[43m(\u001b[49m\u001b[43mr\u001b[49m\u001b[43m,\u001b[49m\u001b[43m \u001b[49m\u001b[43mphi\u001b[49m\u001b[43m)\u001b[49m\u001b[43m,\u001b[49m\n\u001b[1;32m      4\u001b[0m \u001b[43m                              \u001b[49m\u001b[43mdst_flatten_order\u001b[49m\u001b[38;5;241;43m=\u001b[39;49m\u001b[43mflatten_order\u001b[49m\u001b[43m,\u001b[49m\n\u001b[1;32m      5\u001b[0m \u001b[43m                              \u001b[49m\u001b[43mdst_order\u001b[49m\u001b[38;5;241;43m=\u001b[39;49m\u001b[43morder\u001b[49m\u001b[43m,\u001b[49m\n\u001b[1;32m      6\u001b[0m \u001b[43m                              \u001b[49m\u001b[43mloss\u001b[49m\u001b[38;5;241;43m=\u001b[39;49m\u001b[38;5;124;43m'\u001b[39;49m\u001b[38;5;124;43mprod\u001b[39;49m\u001b[38;5;124;43m'\u001b[39;49m\u001b[43m,\u001b[49m\n\u001b[1;32m      7\u001b[0m \u001b[43m                              \u001b[49m\u001b[43mlr\u001b[49m\u001b[38;5;241;43m=\u001b[39;49m\u001b[38;5;241;43m0.0001\u001b[39;49m\u001b[43m,\u001b[49m\u001b[43m \u001b[49m\u001b[43mweight_decay\u001b[49m\u001b[38;5;241;43m=\u001b[39;49m\u001b[38;5;241;43m0.01\u001b[39;49m\u001b[43m,\u001b[49m\u001b[43m \u001b[49m\u001b[43mn_layers\u001b[49m\u001b[38;5;241;43m=\u001b[39;49m\u001b[38;5;241;43m8\u001b[39;49m\u001b[43m,\u001b[49m\n\u001b[1;32m      8\u001b[0m \u001b[43m                              \u001b[49m\u001b[43mn_heads\u001b[49m\u001b[38;5;241;43m=\u001b[39;49m\u001b[43mn_heads\u001b[49m\u001b[43m,\u001b[49m\u001b[43m \u001b[49m\u001b[43md_query\u001b[49m\u001b[38;5;241;43m=\u001b[39;49m\u001b[43md_query\u001b[49m\u001b[43m,\u001b[49m\u001b[43m \u001b[49m\u001b[43mdropout\u001b[49m\u001b[38;5;241;43m=\u001b[39;49m\u001b[38;5;241;43m0.1\u001b[39;49m\u001b[43m,\u001b[49m\u001b[43m \u001b[49m\u001b[43mattention_dropout\u001b[49m\u001b[38;5;241;43m=\u001b[39;49m\u001b[38;5;241;43m0.1\u001b[39;49m\u001b[43m,\u001b[49m\u001b[43mnum_shells\u001b[49m\u001b[43m \u001b[49m\u001b[38;5;241;43m=\u001b[39;49m\u001b[43m \u001b[49m\u001b[38;5;241;43m5\u001b[39;49m\u001b[43m)\u001b[49m\n\u001b[1;32m     10\u001b[0m model\u001b[38;5;241m.\u001b[39mload_test_model(\u001b[38;5;124m'\u001b[39m\u001b[38;5;124m/home/aman.kukde/Projects/FourierImageTransformer/model-2.ckpt\u001b[39m\u001b[38;5;124m'\u001b[39m)\n\u001b[1;32m     11\u001b[0m \u001b[38;5;66;03m# model.cuda()\u001b[39;00m\n",
      "File \u001b[0;32m~/Projects/FourierImageTransformer/examples/../fit/modules/SResTransformerModule.py:72\u001b[0m, in \u001b[0;36mSResTransformerModule.__init__\u001b[0;34m(self, d_model, img_shape, coords, dst_flatten_order, dst_order, loss, mode, lr, weight_decay, n_layers, n_heads, d_query, dropout, attention_dropout, num_shells, model_path)\u001b[0m\n\u001b[1;32m     62\u001b[0m     \u001b[38;5;28mself\u001b[39m\u001b[38;5;241m.\u001b[39mloss \u001b[38;5;241m=\u001b[39m _fc_sum_loss_modified\n\u001b[1;32m     64\u001b[0m \u001b[38;5;28mself\u001b[39m\u001b[38;5;241m.\u001b[39msres \u001b[38;5;241m=\u001b[39m SResTransformerTrain(d_model\u001b[38;5;241m=\u001b[39m\u001b[38;5;28mself\u001b[39m\u001b[38;5;241m.\u001b[39md_model,\n\u001b[1;32m     65\u001b[0m                                  coords\u001b[38;5;241m=\u001b[39m\u001b[38;5;28mself\u001b[39m\u001b[38;5;241m.\u001b[39mcoords,\n\u001b[1;32m     66\u001b[0m                                  flatten_order\u001b[38;5;241m=\u001b[39m\u001b[38;5;28mself\u001b[39m\u001b[38;5;241m.\u001b[39mdst_flatten_order,\n\u001b[0;32m   (...)\u001b[0m\n\u001b[1;32m     70\u001b[0m                                  dropout\u001b[38;5;241m=\u001b[39m \u001b[38;5;241m0.1\u001b[39m,\n\u001b[1;32m     71\u001b[0m                                  attention_dropout\u001b[38;5;241m=\u001b[39m\u001b[38;5;241m0.1\u001b[39m)\n\u001b[0;32m---> 72\u001b[0m \u001b[38;5;28;01mif\u001b[39;00m \u001b[38;5;28;43mlen\u001b[39;49m\u001b[43m(\u001b[49m\u001b[38;5;28;43mself\u001b[39;49m\u001b[38;5;241;43m.\u001b[39;49m\u001b[43mmodel_path\u001b[49m\u001b[43m)\u001b[49m \u001b[38;5;241m>\u001b[39m \u001b[38;5;241m0\u001b[39m:\n\u001b[1;32m     73\u001b[0m     weights \u001b[38;5;241m=\u001b[39m torch\u001b[38;5;241m.\u001b[39mload(\u001b[38;5;28mself\u001b[39m\u001b[38;5;241m.\u001b[39mmodel_path)\n\u001b[1;32m     74\u001b[0m     sd \u001b[38;5;241m=\u001b[39m {}\n",
      "\u001b[0;31mTypeError\u001b[0m: object of type 'NoneType' has no len()"
     ]
    }
   ],
   "source": [
    "model = SResTransformerModule(d_model=n_heads*d_query, \n",
    "                              img_shape=dm.gt_shape,\n",
    "                              coords=(r, phi),\n",
    "                              dst_flatten_order=flatten_order,\n",
    "                              dst_order=order,\n",
    "                              loss='prod',\n",
    "                              lr=0.0001, weight_decay=0.01, n_layers=8,\n",
    "                              n_heads=n_heads, d_query=d_query, dropout=0.1, attention_dropout=0.1,num_shells = 5)\n",
    "\n",
    "model.load_test_model('/home/aman.kukde/Projects/FourierImageTransformer/model-2.ckpt')\n",
    "# model.cuda()\n",
    "tokeniser_weights = torch.load('/home/aman.kukde/Projects/FourierImageTransformer/model.ckpt')['state_dict']\n",
    "for key in list(tokeniser_weights.keys()):\n",
    "    if '.encoder' in key:\n",
    "        del tokeniser_weights[key]\n",
    "\n",
    "def load_partial_state_dict(model, state_dict):\n",
    "    own_state = model.state_dict()\n",
    "    for name, param in state_dict.items():\n",
    "        if name in own_state:\n",
    "            print(f'Copying {name}')\n",
    "            if own_state[name].size() == param.size():\n",
    "                own_state[name].copy_(param)\n",
    "                own_state[name].requires_grad = False\n",
    "                own_state[name].training = False\n",
    "        # else:\n",
    "        #     print(f'Layer {name} not found in current model')\n",
    "    model.load_state_dict(tokeniser_weights, strict=False)\n",
    "    return model\n",
    "\n",
    "model = load_partial_state_dict(model, tokeniser_weights)\n",
    "\n",
    "trainer = Trainer(max_epochs=100, \n",
    "                  #gpus=1, # set to 0 if you want to run on CPU\n",
    "                  callbacks=ModelCheckpoint(\n",
    "                                            dirpath=None,\n",
    "                                            save_top_k=1,\n",
    "                                            verbose=False,\n",
    "                                            save_last=True,\n",
    "                                            monitor='Validation/avg_val_loss',\n",
    "                                            mode='min'\n",
    "                                        ), \n",
    "                  deterministic=True)"
   ]
  },
  {
   "cell_type": "code",
   "execution_count": null,
   "metadata": {
    "scrolled": false
   },
   "outputs": [],
   "source": [
    "# trainer = Trainer(max_epochs=100, \n",
    "#                   gpus=1, # set to 0 if you want to run on CPU\n",
    "#                   callbacks=ModelCheckpoint(\n",
    "#                                             dirpath=None,\n",
    "#                                             save_top_k=1,\n",
    "#                                             verbose=False,\n",
    "#                                             save_last=True,\n",
    "#                                             monitor='Train/avg_val_loss',\n",
    "#                                             mode='min'\n",
    "#                                         ), \n",
    "#                   deterministic=True)"
   ]
  },
  {
   "cell_type": "code",
   "execution_count": null,
   "metadata": {
    "scrolled": true
   },
   "outputs": [],
   "source": [
    "# Train your own model.\n",
    "# trainer.fit(model, datamodule=dm);"
   ]
  },
  {
   "cell_type": "code",
   "execution_count": null,
   "metadata": {},
   "outputs": [],
   "source": [
    "# if not exists('./models/sres/mnist_sres.ckpt'):\n",
    "#     wget.download('https://download.fht.org/jug/fit/sres_model_mnist.ckpt',\n",
    "#                   out='./models/sres/mnist_sres.ckpt')"
   ]
  },
  {
   "cell_type": "code",
   "execution_count": null,
   "metadata": {},
   "outputs": [],
   "source": [
    "model.load_test_model('/home/aman.kukde/Projects/Super_Resolution_Task/Original_FIT/FourierImageTransformer/saved_models/26-02_13-51-48_prod_+TanH/last.ckpt')\n",
    "# model.cpu();"
   ]
  },
  {
   "cell_type": "code",
   "execution_count": null,
   "metadata": {},
   "outputs": [],
   "source": [
    "for fc, (mag_min, mag_max) in dm.train_dataloader():\n",
    "    break"
   ]
  },
  {
   "cell_type": "code",
   "execution_count": null,
   "metadata": {},
   "outputs": [],
   "source": [
    "from torchvision.datasets import MNIST\n",
    "mnist_train_val = MNIST('./datamodules/data/', train=True, download=True).data.type(torch.float32)"
   ]
  },
  {
   "cell_type": "code",
   "execution_count": null,
   "metadata": {},
   "outputs": [],
   "source": [
    "lowres, pred_img, gt = model.get_lowres_pred_gt(fc, mag_min, mag_max)"
   ]
  },
  {
   "cell_type": "code",
   "execution_count": null,
   "metadata": {},
   "outputs": [],
   "source": [
    "diff = []\n",
    "for i in range(2):\n",
    "    sample = i\n",
    "    fig = plt.figure(figsize=(31/2., 10/2.)) \n",
    "    gs = gridspec.GridSpec(1, 5, width_ratios=[10,0.5, 10, 0.5, 10]) \n",
    "    ax0 = plt.subplot(gs[0])\n",
    "    ax1 = plt.subplot(gs[2])\n",
    "    ax2 = plt.subplot(gs[4])\n",
    "    plt.subplots_adjust(top = 1, bottom = 0, right = 1, left = 0, \n",
    "                        hspace = 0, wspace = 0)\n",
    "\n",
    "    ax0.xaxis.set_major_locator(plt.NullLocator())\n",
    "    ax0.yaxis.set_major_locator(plt.NullLocator())\n",
    "    lowres_vs_gt_psnr = PSNR(gt[sample][2:, 2:], lowres[sample][2:, 2:], drange=torch.tensor(255., dtype=torch.float32))\n",
    "    ax0.imshow(lowres[sample][2:, 2:], cmap='gray')\n",
    "    ax0.set_title('Low-Resolution Input');\n",
    "    ax0.set_xlabel(f'PSNR: {lowres_vs_gt_psnr:.2f} dB\\nMax: {lowres[sample].max():.2f} Min: {lowres[sample].min():.2f}');\n",
    "    ax0.axis('equal');\n",
    "\n",
    "    ax1.xaxis.set_major_locator(plt.NullLocator())\n",
    "    ax1.yaxis.set_major_locator(plt.NullLocator())\n",
    "    \n",
    "    ax1.imshow(pred_img[sample][2:, 2:], cmap='gray')\n",
    "    pred_vs_gt_psnr = PSNR(gt[sample][2:, 2:], pred_img[sample][2:, 2:], drange=torch.tensor(255., dtype=torch.float32))\n",
    "    ax1.set_title('Prediction');\n",
    "    ax1.set_xlabel(f'PSNR: {pred_vs_gt_psnr:.2f} dB\\nMax: {pred_img[sample].max():.2f} Min: {pred_img[sample].min():.2f}');\n",
    "    ax1.axis('equal');\n",
    "\n",
    "\n",
    "    ax2.xaxis.set_major_locator(plt.NullLocator())\n",
    "    ax2.yaxis.set_major_locator(plt.NullLocator())\n",
    "    ax2.imshow(gt[sample], cmap='gray')\n",
    "    ax2.set_title('Ground Truth');\n",
    "    ax2.set_xlabel(f'Max: {gt[sample].max():.2f} Min: {gt[sample].min():.2f}\\nDiff: {lowres_vs_gt_psnr - pred_vs_gt_psnr:.2f} dB');\n",
    "    ax2.axis('equal');\n",
    "    diff.append(lowres_vs_gt_psnr - pred_vs_gt_psnr)\n"
   ]
  },
  {
   "cell_type": "code",
   "execution_count": null,
   "metadata": {},
   "outputs": [],
   "source": [
    "diff = []\n",
    "lowres_scaled = torch.zeros_like(lowres)\n",
    "pred_img_scaled = torch.zeros_like(pred_img)\n",
    "for i in range(2):\n",
    "    sample = i\n",
    "    pred_img_scaled[i] = (pred_img[i] - gt[i].min())/(gt[i].max() - gt[i].min())\n",
    "    lowres_scaled[i] = (lowres[i] - gt[i].min())/(gt[i].max() - gt[i].min())\n",
    "    fig = plt.figure(figsize=(31/2., 10/2.))\n",
    "    gs = gridspec.GridSpec(1, 5, width_ratios=[10,0.5, 10, 0.5, 10]) \n",
    "    ax0 = plt.subplot(gs[0])\n",
    "    ax1 = plt.subplot(gs[2])\n",
    "    ax2 = plt.subplot(gs[4])\n",
    "    plt.subplots_adjust(top = 1, bottom = 0, right = 1, left = 0, \n",
    "                        hspace = 0, wspace = 0)\n",
    "    ax0.xaxis.set_major_locator(plt.NullLocator())\n",
    "    ax0.yaxis.set_major_locator(plt.NullLocator())\n",
    "    lowres_scaled_vs_gt_psnr = PSNR(gt[sample][2:, 2:], lowres_scaled[sample][2:, 2:], drange=torch.tensor(255., dtype=torch.float32))\n",
    "    ax0.imshow(np.roll(abs(torch.fft.rfftn(lowres[sample],dim = [0,1])),13,0)[2:, 2:])\n",
    "    ax0.set_title('Low-Resolution Input');\n",
    "    ax0.set_xlabel(f'PSNR: {lowres_scaled_vs_gt_psnr:.2f} dB\\nMax: {lowres_scaled[sample].max():.2f} Min: {lowres_scaled[sample].min():.2f}');\n",
    "    ax0.axis('equal');\n",
    "\n",
    "    ax1.xaxis.set_major_locator(plt.NullLocator())\n",
    "    ax1.yaxis.set_major_locator(plt.NullLocator())\n",
    "    \n",
    "    ax1.imshow(np.roll(abs(torch.fft.rfftn(pred_img[sample][2:, 2:],dim = [0,1])),13,0)[2:, 2:])\n",
    "    pred_vs_gt_psnr = PSNR(gt[sample][2:, 2:], pred_img_scaled[sample][2:, 2:], drange=torch.tensor(255., dtype=torch.float32))\n",
    "    ax1.set_title('Prediction');\n",
    "    ax1.set_xlabel(f'PSNR: {pred_vs_gt_psnr:.2f} dB\\nMax: {pred_img_scaled[sample].max():.2f} Min: {pred_img_scaled[sample].min():.2f}');\n",
    "    ax1.axis('equal');\n",
    "\n",
    "    ax2.xaxis.set_major_locator(plt.NullLocator())\n",
    "    ax2.yaxis.set_major_locator(plt.NullLocator())\n",
    "    ax2.imshow(np.roll(abs(torch.fft.rfftn(gt[sample],dim = [0,1])),13,0))\n",
    "    ax2.set_title('Ground Truth');\n",
    "    ax2.set_xlabel(f'Max: {gt[sample].max():.2f} Min: {gt[sample].min():.2f}\\nDiff: {lowres_vs_gt_psnr - pred_vs_gt_psnr:.2f} dB');\n",
    "    ax2.axis('equal');\n",
    "    diff.append(lowres_vs_gt_psnr - pred_vs_gt_psnr)\n",
    "\n"
   ]
  },
  {
   "cell_type": "code",
   "execution_count": null,
   "metadata": {},
   "outputs": [],
   "source": []
  }
 ],
 "metadata": {
  "kernelspec": {
   "display_name": "Python 3 (ipykernel)",
   "language": "python",
   "name": "python3"
  },
  "language_info": {
   "codemirror_mode": {
    "name": "ipython",
    "version": 3
   },
   "file_extension": ".py",
   "mimetype": "text/x-python",
   "name": "python",
   "nbconvert_exporter": "python",
   "pygments_lexer": "ipython3",
   "version": "3.9.18"
  }
 },
 "nbformat": 4,
 "nbformat_minor": 4
}
