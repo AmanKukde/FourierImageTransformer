{
 "cells": [
  {
   "cell_type": "code",
   "execution_count": 1,
   "id": "81dee2c7",
   "metadata": {},
   "outputs": [],
   "source": [
    "from fit.datamodules.tomo_rec import Kanji_TRecFITDM\n",
    "from fit.utils.tomo_utils import get_polar_rfft_coords_2D, get_polar_rfft_coords_sinogram\n",
    "from fit.utils import denormalize, convert2DFT\n",
    "from fit.modules import TRecTransformerModule\n",
    "\n",
    "from matplotlib import pyplot as plt\n",
    "\n",
    "import torch\n",
    "\n",
    "import numpy as np\n",
    "\n",
    "from pytorch_lightning import Trainer, seed_everything\n",
    "from pytorch_lightning.callbacks import ModelCheckpoint\n",
    "\n",
    "import wget\n",
    "from os.path import exists\n",
    "\n",
    "from tqdm.notebook import tqdm\n",
    "\n",
    "from fit.utils import PSNR, denormalize\n",
    "\n",
    "import odl"
   ]
  },
  {
   "cell_type": "code",
   "execution_count": 2,
   "id": "d050f27d",
   "metadata": {},
   "outputs": [
    {
     "name": "stderr",
     "output_type": "stream",
     "text": [
      "Global seed set to 22122020\n"
     ]
    },
    {
     "data": {
      "text/plain": [
       "22122020"
      ]
     },
     "execution_count": 2,
     "metadata": {},
     "output_type": "execute_result"
    }
   ],
   "source": [
    "seed_everything(22122020)"
   ]
  },
  {
   "cell_type": "code",
   "execution_count": 3,
   "id": "0e821758",
   "metadata": {},
   "outputs": [],
   "source": [
    "dm = Kanji_TRecFITDM(root_dir='./datamodules/data/', batch_size=32, num_angles=33)\n",
    "# FIT: TRec + FBP vs FIT: TRec\n",
    "with_fbp = False\n",
    "\n",
    "dm.prepare_data()\n",
    "dm.setup()"
   ]
  },
  {
   "cell_type": "code",
   "execution_count": 4,
   "id": "1c38b0d4",
   "metadata": {},
   "outputs": [],
   "source": [
    "def TV_reconstruction(sino, ray_trafo, reco_space, reg_param = 0.3, niter_bregman = 10):\n",
    "    data = sino\n",
    "\n",
    "    # Components for variational problem: l2-squared data matching and isotropic\n",
    "    # TV-regularization\n",
    "    l2_norm = 0.5 * odl.solvers.L2NormSquared(ray_trafo.range).translated(data)\n",
    "    gradient = odl.Gradient(reco_space)\n",
    "    l12_norm = reg_param * odl.solvers.GroupL1Norm(gradient.range)\n",
    "\n",
    "    # Assemble functionals and operators for the optimization algorithm\n",
    "    f = odl.solvers.ZeroFunctional(reco_space)  # No f functional used, set to zero\n",
    "    g = [l2_norm, l12_norm]\n",
    "    L = [ray_trafo, gradient]\n",
    "\n",
    "    # Estimated operator norms, which are used to ensure that we fulfill the\n",
    "    # convergence criteria of the optimization algorithm\n",
    "    ray_trafo_norm = odl.power_method_opnorm(ray_trafo, maxiter=20)\n",
    "    gradient_norm = odl.power_method_opnorm(gradient, maxiter=20)\n",
    "\n",
    "    # Parameters for the optimization method; tuned in order to reduce the number\n",
    "    # of inner iterations needed to solve the first step in the Bregman iterations\n",
    "    niter_inner = 200\n",
    "    tau = 0.01  # Step size for the primal variable\n",
    "    sigma_ray_trafo = 45.0 / ray_trafo_norm ** 2  # Step size for dual variable\n",
    "    sigma_gradient = 45.0 / gradient_norm ** 2  # Step size for dual variable\n",
    "    sigma = [sigma_ray_trafo, sigma_gradient]\n",
    "    \n",
    "\n",
    "    # Create initial guess and initial subgradient\n",
    "    x = reco_space.zero()\n",
    "    p = reco_space.zero()\n",
    "\n",
    "    recos = []\n",
    "    # This defines the outer Bregman iterations\n",
    "    for breg_iter in tqdm(range(niter_bregman), leave=False):\n",
    "#         print('Outer Bregman Iteration: {}'.format(breg_iter))\n",
    "\n",
    "        # Create the affine part of the Bregman functional\n",
    "        constant = l12_norm(gradient(x))\n",
    "        linear_part = reg_param * odl.solvers.QuadraticForm(vector=-p,\n",
    "                                                            constant=constant)\n",
    "\n",
    "#         callback_inner = odl.solvers.CallbackPrintIteration(step=50)\n",
    "\n",
    "        # Inner iterations; x is updated in-place with the consecutive iterates\n",
    "        odl.solvers.forward_backward_pd(\n",
    "            x=x, f=f, g=g, L=L, h=linear_part, tau=tau, sigma=sigma,\n",
    "            niter=niter_inner)\n",
    "\n",
    "        # Update the subgradient\n",
    "        p -= (1 / reg_param) * ray_trafo.adjoint(l2_norm.gradient(ray_trafo(x)))\n",
    "\n",
    "        # Display the result after this iteration\n",
    "    #     x.T.show(title='Outer Breg|\n",
    "        recos.append(x.asarray().copy())\n",
    "\n",
    "    return recos"
   ]
  },
  {
   "cell_type": "code",
   "execution_count": 5,
   "id": "53708dcd",
   "metadata": {},
   "outputs": [],
   "source": [
    "def get_optimal_TV_rec(sino, gt, ray_trafo, rec_space, reg_params, niter_bregman):\n",
    "    img_shape = gt.shape[0]\n",
    "    x, y = torch.meshgrid(torch.arange(-img_shape // 2 + 1,\n",
    "                                        img_shape // 2 + 1),\n",
    "                          torch.arange(-img_shape // 2 + 1,\n",
    "                                        img_shape // 2 + 1))\n",
    "    circle = torch.sqrt(x ** 2. + y ** 2.) <= img_shape // 2\n",
    "\n",
    "    def get_gt(gt, circle):\n",
    "        gt = denormalize(gt, dm.mean, dm.std)\n",
    "        return circle * gt\n",
    "\n",
    "    def get_rec(rec, circle):\n",
    "        rec = denormalize(rec, dm.mean, dm.std)\n",
    "        return circle * rec\n",
    "    \n",
    "    gt = get_gt(gt, circle)\n",
    "    best_PSNR = 0.\n",
    "    best_params = {}\n",
    "    for reg in tqdm(reg_params):\n",
    "        recs = TV_reconstruction(sino, ray_trafo, reco_space, reg_param=reg, niter_bregman=niter_bregman)\n",
    "\n",
    "        for i, rec in enumerate(recs):\n",
    "            rec = get_rec(torch.from_numpy(rec), circle)\n",
    "            psnr = PSNR(gt, rec, gt.max() - gt.min()).item()\n",
    "            if psnr > best_PSNR:\n",
    "                best_PSNR = psnr\n",
    "                best_params = {'reg_param': reg, 'niter_bregman': i+1, 'rec': rec}\n",
    "                \n",
    "                \n",
    "    \n",
    "    print('Best Configuration')\n",
    "    print('PSNR: ', np.round(best_PSNR, 2))\n",
    "    print(best_params['reg_param'])\n",
    "    print(best_params['niter_bregman'])\n",
    "    return best_params['rec'], best_params, best_PSNR, gt"
   ]
  },
  {
   "cell_type": "code",
   "execution_count": 6,
   "id": "c1a692b8",
   "metadata": {},
   "outputs": [
    {
     "data": {
      "application/vnd.jupyter.widget-view+json": {
       "model_id": "074ad7c5c4be4efb832775f4e8222d20",
       "version_major": 2,
       "version_minor": 0
      },
      "text/plain": [
       "  0%|          | 0/9 [00:00<?, ?it/s]"
      ]
     },
     "metadata": {},
     "output_type": "display_data"
    },
    {
     "data": {
      "application/vnd.jupyter.widget-view+json": {
       "model_id": "",
       "version_major": 2,
       "version_minor": 0
      },
      "text/plain": [
       "  0%|          | 0/7 [00:00<?, ?it/s]"
      ]
     },
     "metadata": {},
     "output_type": "display_data"
    },
    {
     "data": {
      "application/vnd.jupyter.widget-view+json": {
       "model_id": "",
       "version_major": 2,
       "version_minor": 0
      },
      "text/plain": [
       "  0%|          | 0/7 [00:00<?, ?it/s]"
      ]
     },
     "metadata": {},
     "output_type": "display_data"
    },
    {
     "data": {
      "application/vnd.jupyter.widget-view+json": {
       "model_id": "",
       "version_major": 2,
       "version_minor": 0
      },
      "text/plain": [
       "  0%|          | 0/7 [00:00<?, ?it/s]"
      ]
     },
     "metadata": {},
     "output_type": "display_data"
    },
    {
     "data": {
      "application/vnd.jupyter.widget-view+json": {
       "model_id": "",
       "version_major": 2,
       "version_minor": 0
      },
      "text/plain": [
       "  0%|          | 0/7 [00:00<?, ?it/s]"
      ]
     },
     "metadata": {},
     "output_type": "display_data"
    },
    {
     "data": {
      "application/vnd.jupyter.widget-view+json": {
       "model_id": "",
       "version_major": 2,
       "version_minor": 0
      },
      "text/plain": [
       "  0%|          | 0/7 [00:00<?, ?it/s]"
      ]
     },
     "metadata": {},
     "output_type": "display_data"
    },
    {
     "data": {
      "application/vnd.jupyter.widget-view+json": {
       "model_id": "",
       "version_major": 2,
       "version_minor": 0
      },
      "text/plain": [
       "  0%|          | 0/7 [00:00<?, ?it/s]"
      ]
     },
     "metadata": {},
     "output_type": "display_data"
    },
    {
     "data": {
      "application/vnd.jupyter.widget-view+json": {
       "model_id": "",
       "version_major": 2,
       "version_minor": 0
      },
      "text/plain": [
       "  0%|          | 0/7 [00:00<?, ?it/s]"
      ]
     },
     "metadata": {},
     "output_type": "display_data"
    },
    {
     "data": {
      "application/vnd.jupyter.widget-view+json": {
       "model_id": "",
       "version_major": 2,
       "version_minor": 0
      },
      "text/plain": [
       "  0%|          | 0/7 [00:00<?, ?it/s]"
      ]
     },
     "metadata": {},
     "output_type": "display_data"
    },
    {
     "data": {
      "application/vnd.jupyter.widget-view+json": {
       "model_id": "",
       "version_major": 2,
       "version_minor": 0
      },
      "text/plain": [
       "  0%|          | 0/7 [00:00<?, ?it/s]"
      ]
     },
     "metadata": {},
     "output_type": "display_data"
    },
    {
     "name": "stdout",
     "output_type": "stream",
     "text": [
      "Best Configuration\n",
      "PSNR:  26.67\n",
      "0.2\n",
      "4\n"
     ]
    },
    {
     "data": {
      "application/vnd.jupyter.widget-view+json": {
       "model_id": "9437793c67f64cd28a2b8166a8b0addb",
       "version_major": 2,
       "version_minor": 0
      },
      "text/plain": [
       "  0%|          | 0/9 [00:00<?, ?it/s]"
      ]
     },
     "metadata": {},
     "output_type": "display_data"
    },
    {
     "data": {
      "application/vnd.jupyter.widget-view+json": {
       "model_id": "",
       "version_major": 2,
       "version_minor": 0
      },
      "text/plain": [
       "  0%|          | 0/7 [00:00<?, ?it/s]"
      ]
     },
     "metadata": {},
     "output_type": "display_data"
    },
    {
     "data": {
      "application/vnd.jupyter.widget-view+json": {
       "model_id": "",
       "version_major": 2,
       "version_minor": 0
      },
      "text/plain": [
       "  0%|          | 0/7 [00:00<?, ?it/s]"
      ]
     },
     "metadata": {},
     "output_type": "display_data"
    },
    {
     "data": {
      "application/vnd.jupyter.widget-view+json": {
       "model_id": "",
       "version_major": 2,
       "version_minor": 0
      },
      "text/plain": [
       "  0%|          | 0/7 [00:00<?, ?it/s]"
      ]
     },
     "metadata": {},
     "output_type": "display_data"
    },
    {
     "data": {
      "application/vnd.jupyter.widget-view+json": {
       "model_id": "",
       "version_major": 2,
       "version_minor": 0
      },
      "text/plain": [
       "  0%|          | 0/7 [00:00<?, ?it/s]"
      ]
     },
     "metadata": {},
     "output_type": "display_data"
    },
    {
     "data": {
      "application/vnd.jupyter.widget-view+json": {
       "model_id": "",
       "version_major": 2,
       "version_minor": 0
      },
      "text/plain": [
       "  0%|          | 0/7 [00:00<?, ?it/s]"
      ]
     },
     "metadata": {},
     "output_type": "display_data"
    },
    {
     "data": {
      "application/vnd.jupyter.widget-view+json": {
       "model_id": "",
       "version_major": 2,
       "version_minor": 0
      },
      "text/plain": [
       "  0%|          | 0/7 [00:00<?, ?it/s]"
      ]
     },
     "metadata": {},
     "output_type": "display_data"
    },
    {
     "data": {
      "application/vnd.jupyter.widget-view+json": {
       "model_id": "",
       "version_major": 2,
       "version_minor": 0
      },
      "text/plain": [
       "  0%|          | 0/7 [00:00<?, ?it/s]"
      ]
     },
     "metadata": {},
     "output_type": "display_data"
    },
    {
     "data": {
      "application/vnd.jupyter.widget-view+json": {
       "model_id": "",
       "version_major": 2,
       "version_minor": 0
      },
      "text/plain": [
       "  0%|          | 0/7 [00:00<?, ?it/s]"
      ]
     },
     "metadata": {},
     "output_type": "display_data"
    },
    {
     "data": {
      "application/vnd.jupyter.widget-view+json": {
       "model_id": "",
       "version_major": 2,
       "version_minor": 0
      },
      "text/plain": [
       "  0%|          | 0/7 [00:00<?, ?it/s]"
      ]
     },
     "metadata": {},
     "output_type": "display_data"
    },
    {
     "name": "stdout",
     "output_type": "stream",
     "text": [
      "Best Configuration\n",
      "PSNR:  30.88\n",
      "0.2\n",
      "3\n"
     ]
    },
    {
     "data": {
      "application/vnd.jupyter.widget-view+json": {
       "model_id": "eb1cfade1d9b43109eae4fdb65046f1e",
       "version_major": 2,
       "version_minor": 0
      },
      "text/plain": [
       "  0%|          | 0/9 [00:00<?, ?it/s]"
      ]
     },
     "metadata": {},
     "output_type": "display_data"
    },
    {
     "data": {
      "application/vnd.jupyter.widget-view+json": {
       "model_id": "",
       "version_major": 2,
       "version_minor": 0
      },
      "text/plain": [
       "  0%|          | 0/7 [00:00<?, ?it/s]"
      ]
     },
     "metadata": {},
     "output_type": "display_data"
    },
    {
     "data": {
      "application/vnd.jupyter.widget-view+json": {
       "model_id": "",
       "version_major": 2,
       "version_minor": 0
      },
      "text/plain": [
       "  0%|          | 0/7 [00:00<?, ?it/s]"
      ]
     },
     "metadata": {},
     "output_type": "display_data"
    },
    {
     "data": {
      "application/vnd.jupyter.widget-view+json": {
       "model_id": "",
       "version_major": 2,
       "version_minor": 0
      },
      "text/plain": [
       "  0%|          | 0/7 [00:00<?, ?it/s]"
      ]
     },
     "metadata": {},
     "output_type": "display_data"
    },
    {
     "data": {
      "application/vnd.jupyter.widget-view+json": {
       "model_id": "",
       "version_major": 2,
       "version_minor": 0
      },
      "text/plain": [
       "  0%|          | 0/7 [00:00<?, ?it/s]"
      ]
     },
     "metadata": {},
     "output_type": "display_data"
    },
    {
     "data": {
      "application/vnd.jupyter.widget-view+json": {
       "model_id": "",
       "version_major": 2,
       "version_minor": 0
      },
      "text/plain": [
       "  0%|          | 0/7 [00:00<?, ?it/s]"
      ]
     },
     "metadata": {},
     "output_type": "display_data"
    },
    {
     "data": {
      "application/vnd.jupyter.widget-view+json": {
       "model_id": "",
       "version_major": 2,
       "version_minor": 0
      },
      "text/plain": [
       "  0%|          | 0/7 [00:00<?, ?it/s]"
      ]
     },
     "metadata": {},
     "output_type": "display_data"
    },
    {
     "data": {
      "application/vnd.jupyter.widget-view+json": {
       "model_id": "",
       "version_major": 2,
       "version_minor": 0
      },
      "text/plain": [
       "  0%|          | 0/7 [00:00<?, ?it/s]"
      ]
     },
     "metadata": {},
     "output_type": "display_data"
    },
    {
     "data": {
      "application/vnd.jupyter.widget-view+json": {
       "model_id": "",
       "version_major": 2,
       "version_minor": 0
      },
      "text/plain": [
       "  0%|          | 0/7 [00:00<?, ?it/s]"
      ]
     },
     "metadata": {},
     "output_type": "display_data"
    },
    {
     "data": {
      "application/vnd.jupyter.widget-view+json": {
       "model_id": "",
       "version_major": 2,
       "version_minor": 0
      },
      "text/plain": [
       "  0%|          | 0/7 [00:00<?, ?it/s]"
      ]
     },
     "metadata": {},
     "output_type": "display_data"
    },
    {
     "name": "stdout",
     "output_type": "stream",
     "text": [
      "Best Configuration\n",
      "PSNR:  31.65\n",
      "0.2\n",
      "3\n"
     ]
    }
   ],
   "source": [
    "train_dl = dm.train_dataloader()\n",
    "\n",
    "ray_trafo = train_dl.dataset.ds.dataset.ray_trafo\n",
    "reco_space = train_dl.dataset.ds.dataset.space[1]\n",
    "\n",
    "c = 0\n",
    "results = []\n",
    "for sino , gt in train_dl.dataset.ds.dataset.get_test_generator():\n",
    "    if c >= 3:\n",
    "        break\n",
    "    c+=1\n",
    "    best_rec, best_params, best_PSNR, gt_ = get_optimal_TV_rec(sino, gt, ray_trafo, reco_space, \n",
    "                                           reg_params=[0.1, 0.2, 0.3, 0.4, 0.5, 0.6, 0.7, 0.8, 0.9],\n",
    "                                           niter_bregman=7)\n",
    "    results.append({'rec': best_rec, 'params': best_params, 'psnr': best_PSNR, 'gt': gt_})"
   ]
  },
  {
   "cell_type": "code",
   "execution_count": 7,
   "id": "7b2955cf",
   "metadata": {},
   "outputs": [
    {
     "data": {
      "image/png": "[encoded data removed]",
      "text/plain": [
       "<Figure size 720x360 with 2 Axes>"
      ]
     },
     "metadata": {
      "needs_background": "light"
     },
     "output_type": "display_data"
    },
    {
     "data": {
      "image/png": "[encoded data removed]",
      "text/plain": [
       "<Figure size 720x360 with 2 Axes>"
      ]
     },
     "metadata": {
      "needs_background": "light"
     },
     "output_type": "display_data"
    },
    {
     "data": {
      "image/png": "[encoded data removed]",
      "text/plain": [
       "<Figure size 720x360 with 2 Axes>"
      ]
     },
     "metadata": {
      "needs_background": "light"
     },
     "output_type": "display_data"
    }
   ],
   "source": [
    "for res in results:\n",
    "    gt = res['gt']\n",
    "    plt.figure(figsize=(10,5))\n",
    "    plt.subplot(1,2,1)\n",
    "    plt.imshow(res['rec'], cmap='gray', vmin=gt.min(), vmax=gt.max())\n",
    "    plt.axis('off');\n",
    "    plt.title('PSNR = {:2.2f}'.format(res['psnr']))\n",
    "    plt.subplot(1,2,2)\n",
    "    plt.imshow(gt, cmap='gray')\n",
    "    plt.axis('off');\n",
    "    plt.title('Ground Truth')"
   ]
  },
  {
   "cell_type": "code",
   "execution_count": 11,
   "id": "c6304176",
   "metadata": {},
   "outputs": [
    {
     "data": {
      "image/png": "[encoded data removed]",
      "text/plain": [
       "<Figure size 1080x360 with 3 Axes>"
      ]
     },
     "metadata": {
      "needs_background": "light"
     },
     "output_type": "display_data"
    }
   ],
   "source": [
    "plt.figure(figsize=(15,5))\n",
    "plt.subplot(1,3,1)\n",
    "gt = results[0]['gt']\n",
    "plt.imshow(results[0]['rec'], cmap='gray', vmin=gt.min(), vmax=gt.max())\n",
    "plt.axis('off');\n",
    "plt.subplot(1,3,2)\n",
    "gt = results[1]['gt']\n",
    "plt.imshow(results[1]['rec'], cmap='gray', vmin=gt.min(), vmax=gt.max())\n",
    "plt.axis('off');\n",
    "plt.subplot(1,3,3)\n",
    "gt = results[2]['gt']\n",
    "plt.imshow(results[2]['rec'], cmap='gray', vmin=gt.min(), vmax=gt.max())\n",
    "plt.axis('off');\n",
    "plt.tight_layout()\n",
    "plt.savefig('Kanji_TV_Rec.pdf', bbox_inches='tight', pad_inches=0.0)"
   ]
  },
  {
   "cell_type": "code",
   "execution_count": null,
   "id": "bcf9ac97",
   "metadata": {},
   "outputs": [],
   "source": []
  }
 ],
 "metadata": {
  "kernelspec": {
   "display_name": "Python 3",
   "language": "python",
   "name": "python3"
  },
  "language_info": {
   "codemirror_mode": {
    "name": "ipython",
    "version": 3
   },
   "file_extension": ".py",
   "mimetype": "text/x-python",
   "name": "python",
   "nbconvert_exporter": "python",
   "pygments_lexer": "ipython3",
   "version": "3.7.10"
  }
 },
 "nbformat": 4,
 "nbformat_minor": 5
}
