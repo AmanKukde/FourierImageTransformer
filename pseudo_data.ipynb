{
 "cells": [
  {
   "cell_type": "code",
   "execution_count": 1,
   "metadata": {},
   "outputs": [
    {
     "name": "stderr",
     "output_type": "stream",
     "text": [
      "/localscratch/miniforge3/envs/SSM_LS/lib/python3.9/site-packages/tqdm/auto.py:21: TqdmWarning: IProgress not found. Please update jupyter and ipywidgets. See https://ipywidgets.readthedocs.io/en/stable/user_install.html\n",
      "  from .autonotebook import tqdm as notebook_tqdm\n",
      "Seed set to 22122020\n"
     ]
    }
   ],
   "source": [
    "import sys\n",
    "\n",
    "sys.path.append('../')\n",
    "from fit.datamodules.super_res import MNIST_SResFITDM, CelebA_SResFITDM#,MNIST_SResFITDM_Large,Omniglot\n",
    "from fit.utils.tomo_utils import get_polar_rfft_coords_2D\n",
    "\n",
    "from fit.modules.SResTransformerModule import SResTransformerModule\n",
    "import matplotlib\n",
    "from matplotlib import pyplot as plt\n",
    "from matplotlib import gridspec\n",
    "from fit.utils.PSNR import RangeInvariantPsnr as PSNR\n",
    "# from fit.utils.utils import PSNR\n",
    "import torch\n",
    "import numpy as np\n",
    "from pytorch_lightning import seed_everything\n",
    "\n",
    "import seaborn as sns\n",
    "\n",
    "\n",
    "\n",
    "seed_everything(22122020)\n",
    "dataset = \"MNIST\"\n",
    "if dataset == \"MNIST\":\n",
    "    dm = MNIST_SResFITDM(root_dir=\"./datamodules/data/\",\n",
    "                            batch_size=32, subset_flag=False)\n",
    "# if dataset == \"MNIST_large\":\n",
    "#     dm = MNIST_SResFITDM_Large(root_dir=\"./datamodules/data/\",\n",
    "#                             batch_size=2, subset_flag=False)\n",
    "# if dataset == \"CelebA\":\n",
    "    dm = CelebA_SResFITDM(root_dir=\"./datamodules/data/\",\n",
    "                            batch_size=8, subset_flag=False)\n",
    "# if dataset == \"omniglot\":\n",
    "#     dm = Omniglot(root_dir=\"./datamodules/data/\",batch_size=8, subset_flag=False)\n",
    "\n",
    "dm.prepare_data()\n",
    "dm.setup()\n",
    "r, phi, flatten_order, order = get_polar_rfft_coords_2D(img_shape=dm.gt_shape)\n",
    "\n",
    "\n",
    "model = SResTransformerModule(img_shape=dm.gt_shape,\n",
    "                              coords=(r, phi),\n",
    "                              dst_flatten_order=flatten_order,\n",
    "                              dst_order=order)\n",
    "\n",
    "for fc, (mag_min, mag_max) in dm.test_dataloader():\n",
    "        break\n",
    "fc = fc.to('cuda')\n",
    "mag_min = mag_min.to('cuda')\n",
    "mag_max = mag_max.to('cuda')\n",
    "\n",
    "gt = fc[:, flatten_order]\n",
    "fc = fc[:, model.dst_flatten_order]"
   ]
  },
  {
   "cell_type": "code",
   "execution_count": 24,
   "metadata": {},
   "outputs": [],
   "source": [
    "noise = [torch.normal(0,i,(1,2016)) for i in np.arange(0,1,0.001)]\n",
    "\n",
    "fc_noisy = fc.clone()\n",
    "PList = []\n",
    "for i in noise:\n",
    "    fc_noisy[...,0] = fc[...,0] + i.cuda()\n",
    "    fc_noisy[...,0] = torch.clamp(fc_noisy[...,0], min=-1, max = 1)\n",
    "    noisy_img = model.convert2img(fc=fc_noisy, mag_min=mag_min, mag_max=mag_max)\n",
    "    gt_img = model.convert2img(fc=gt, mag_min=mag_min, mag_max=mag_max)\n",
    "    PList.append(PSNR(gt_img, noisy_img).mean().cpu().numpy())"
   ]
  },
  {
   "cell_type": "code",
   "execution_count": 25,
   "metadata": {},
   "outputs": [
    {
     "data": {
      "text/plain": [
       "[<matplotlib.lines.Line2D at 0x7f2c3c160370>]"
      ]
     },
     "execution_count": 25,
     "metadata": {},
     "output_type": "execute_result"
    },
    {
     "data": {
      "image/png": "[encoded data removed]",
      "text/plain": [
       "<Figure size 640x480 with 1 Axes>"
      ]
     },
     "metadata": {},
     "output_type": "display_data"
    }
   ],
   "source": [
    "plt.plot(range(len(noise)), PList)"
   ]
  },
  {
   "cell_type": "code",
   "execution_count": null,
   "metadata": {},
   "outputs": [],
   "source": []
  }
 ],
 "metadata": {
  "kernelspec": {
   "display_name": "Python 3",
   "language": "python",
   "name": "python3"
  },
  "language_info": {
   "codemirror_mode": {
    "name": "ipython",
    "version": 3
   },
   "file_extension": ".py",
   "mimetype": "text/x-python",
   "name": "python",
   "nbconvert_exporter": "python",
   "pygments_lexer": "ipython3",
   "version": "3.9.18"
  }
 },
 "nbformat": 4,
 "nbformat_minor": 2
}
