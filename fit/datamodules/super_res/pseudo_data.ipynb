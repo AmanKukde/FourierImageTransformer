{
 "cells": [
  {
   "cell_type": "code",
   "execution_count": 1,
   "metadata": {},
   "outputs": [
    {
     "ename": "ModuleNotFoundError",
     "evalue": "No module named 'fit'",
     "output_type": "error",
     "traceback": [
      "\u001b[0;31m---------------------------------------------------------------------------\u001b[0m",
      "\u001b[0;31mModuleNotFoundError\u001b[0m                       Traceback (most recent call last)",
      "Cell \u001b[0;32mIn[1], line 4\u001b[0m\n\u001b[1;32m      1\u001b[0m \u001b[38;5;28;01mimport\u001b[39;00m \u001b[38;5;21;01msys\u001b[39;00m\n\u001b[1;32m      3\u001b[0m sys\u001b[38;5;241m.\u001b[39mpath\u001b[38;5;241m.\u001b[39mappend(\u001b[38;5;124m'\u001b[39m\u001b[38;5;124m../\u001b[39m\u001b[38;5;124m'\u001b[39m)\n\u001b[0;32m----> 4\u001b[0m \u001b[38;5;28;01mfrom\u001b[39;00m \u001b[38;5;21;01mfit\u001b[39;00m\u001b[38;5;21;01m.\u001b[39;00m\u001b[38;5;21;01mdatamodules\u001b[39;00m\u001b[38;5;21;01m.\u001b[39;00m\u001b[38;5;21;01msuper_res\u001b[39;00m \u001b[38;5;28;01mimport\u001b[39;00m MNIST_SResFITDM, CelebA_SResFITDM,MNIST_SResFITDM_Large,Omniglot\n\u001b[1;32m      5\u001b[0m \u001b[38;5;28;01mfrom\u001b[39;00m \u001b[38;5;21;01mfit\u001b[39;00m\u001b[38;5;21;01m.\u001b[39;00m\u001b[38;5;21;01mutils\u001b[39;00m\u001b[38;5;21;01m.\u001b[39;00m\u001b[38;5;21;01mtomo_utils\u001b[39;00m \u001b[38;5;28;01mimport\u001b[39;00m get_polar_rfft_coords_2D\n\u001b[1;32m      7\u001b[0m \u001b[38;5;28;01mfrom\u001b[39;00m \u001b[38;5;21;01mfit\u001b[39;00m\u001b[38;5;21;01m.\u001b[39;00m\u001b[38;5;21;01mmodules\u001b[39;00m\u001b[38;5;21;01m.\u001b[39;00m\u001b[38;5;21;01mSResTransformerModule\u001b[39;00m \u001b[38;5;28;01mimport\u001b[39;00m SResTransformerModule\n",
      "\u001b[0;31mModuleNotFoundError\u001b[0m: No module named 'fit'"
     ]
    }
   ],
   "source": [
    "import sys\n",
    "\n",
    "sys.path.append('../')\n",
    "from fit.datamodules.super_res import MNIST_SResFITDM, CelebA_SResFITDM,MNIST_SResFITDM_Large,Omniglot\n",
    "from fit.utils.tomo_utils import get_polar_rfft_coords_2D\n",
    "\n",
    "from fit.modules.SResTransformerModule import SResTransformerModule\n",
    "import matplotlib\n",
    "from matplotlib import pyplot as plt\n",
    "from matplotlib import gridspec\n",
    "from fit.utils.PSNR import RangeInvariantPsnr as PSNR\n",
    "# from fit.utils.utils import PSNR\n",
    "import torch\n",
    "import numpy as np\n",
    "from pytorch_lightning import seed_everything\n",
    "\n",
    "import seaborn as sns\n",
    "\n",
    "\n",
    "\n",
    "seed_everything(22122020)\n",
    "dataset = \"omniglot\"\n",
    "if dataset == \"MNIST\":\n",
    "    dm = MNIST_SResFITDM(root_dir=\"./datamodules/data/\",\n",
    "                            batch_size=32, subset_flag=False)\n",
    "if dataset == \"MNIST_large\":\n",
    "    dm = MNIST_SResFITDM_Large(root_dir=\"./datamodules/data/\",\n",
    "                            batch_size=2, subset_flag=False)\n",
    "if dataset == \"CelebA\":\n",
    "    dm = CelebA_SResFITDM(root_dir=\"./datamodules/data/\",\n",
    "                            batch_size=8, subset_flag=False)\n",
    "if dataset == \"omniglot\":\n",
    "    dm = Omniglot(root_dir=\"./datamodules/data/\",batch_size=8, subset_flag=False)\n",
    "\n",
    "dm.prepare_data()\n",
    "dm.setup()\n",
    "r, phi, flatten_order, order = get_polar_rfft_coords_2D(img_shape=dm.gt_shape)\n",
    "\n",
    "\n",
    "model = SResTransformerModule(img_shape=dm.gt_shape,\n",
    "                              coords=(r, phi),\n",
    "                              dst_flatten_order=flatten_order,\n",
    "                              dst_order=order)\n",
    "\n",
    "for fc, (mag_min, mag_max) in dm.test_dataloader():\n",
    "        break\n",
    "fc = fc.to('cuda')\n",
    "mag_min = mag_min.to('cuda')\n",
    "mag_max = mag_max.to('cuda')\n",
    "\n",
    "gt = fc[:, flatten_order]"
   ]
  },
  {
   "cell_type": "code",
   "execution_count": 3,
   "metadata": {},
   "outputs": [
    {
     "data": {
      "text/plain": [
       "tensor([[[0.2959, 0.2959, 0.2959,  ..., 0.2959, 0.2959, 0.2959],\n",
       "         [0.2959, 0.2959, 0.2959,  ..., 0.2959, 0.2959, 0.2959],\n",
       "         [0.2959, 0.2959, 0.2959,  ..., 0.2959, 0.2959, 0.2959],\n",
       "         ...,\n",
       "         [0.2959, 0.2959, 0.2959,  ..., 0.2959, 0.2959, 0.2959],\n",
       "         [0.2959, 0.2959, 0.2959,  ..., 0.2959, 0.2959, 0.2959],\n",
       "         [0.2959, 0.2959, 0.2959,  ..., 0.2959, 0.2959, 0.2959]],\n",
       "\n",
       "        [[0.2959, 0.2959, 0.2959,  ..., 0.2959, 0.2959, 0.2959],\n",
       "         [0.2959, 0.2959, 0.2959,  ..., 0.2959, 0.2959, 0.2959],\n",
       "         [0.2959, 0.2959, 0.2959,  ..., 0.2959, 0.2959, 0.2959],\n",
       "         ...,\n",
       "         [0.2959, 0.2959, 0.2959,  ..., 0.2959, 0.2959, 0.2959],\n",
       "         [0.2959, 0.2959, 0.2959,  ..., 0.2959, 0.2959, 0.2959],\n",
       "         [0.2959, 0.2959, 0.2959,  ..., 0.2959, 0.2959, 0.2959]],\n",
       "\n",
       "        [[0.2959, 0.2959, 0.2959,  ..., 0.2959, 0.2959, 0.2959],\n",
       "         [0.2959, 0.2959, 0.2959,  ..., 0.2959, 0.2959, 0.2959],\n",
       "         [0.2959, 0.2959, 0.2959,  ..., 0.2959, 0.2959, 0.2959],\n",
       "         ...,\n",
       "         [0.2959, 0.2959, 0.2959,  ..., 0.2959, 0.2959, 0.2959],\n",
       "         [0.2959, 0.2959, 0.2959,  ..., 0.2959, 0.2959, 0.2959],\n",
       "         [0.2959, 0.2959, 0.2959,  ..., 0.2959, 0.2959, 0.2959]],\n",
       "\n",
       "        ...,\n",
       "\n",
       "        [[0.2959, 0.2959, 0.2959,  ..., 0.2959, 0.2959, 0.2959],\n",
       "         [0.2959, 0.2959, 0.2959,  ..., 0.2959, 0.2959, 0.2959],\n",
       "         [0.2959, 0.2959, 0.2959,  ..., 0.2959, 0.2959, 0.2959],\n",
       "         ...,\n",
       "         [0.2959, 0.2959, 0.2959,  ..., 0.2959, 0.2959, 0.2959],\n",
       "         [0.2959, 0.2959, 0.2959,  ..., 0.2959, 0.2959, 0.2959],\n",
       "         [0.2959, 0.2959, 0.2959,  ..., 0.2959, 0.2959, 0.2959]],\n",
       "\n",
       "        [[0.2959, 0.2959, 0.2959,  ..., 0.2959, 0.2959, 0.2959],\n",
       "         [0.2959, 0.2959, 0.2959,  ..., 0.2959, 0.2959, 0.2959],\n",
       "         [0.2959, 0.2959, 0.2959,  ..., 0.2959, 0.2959, 0.2959],\n",
       "         ...,\n",
       "         [0.2959, 0.2959, 0.2959,  ..., 0.2959, 0.2959, 0.2959],\n",
       "         [0.2959, 0.2959, 0.2959,  ..., 0.2959, 0.2959, 0.2959],\n",
       "         [0.2959, 0.2959, 0.2959,  ..., 0.2959, 0.2959, 0.2959]],\n",
       "\n",
       "        [[0.2959, 0.2959, 0.2959,  ..., 0.2959, 0.2959, 0.2959],\n",
       "         [0.2959, 0.2959, 0.2959,  ..., 0.2959, 0.2959, 0.2959],\n",
       "         [0.2959, 0.2959, 0.2959,  ..., 0.2959, 0.2959, 0.2959],\n",
       "         ...,\n",
       "         [0.2959, 0.2959, 0.2959,  ..., 0.2959, 0.2959, 0.2959],\n",
       "         [0.2959, 0.2959, 0.2959,  ..., 0.2959, 0.2959, 0.2959],\n",
       "         [0.2959, 0.2959, 0.2959,  ..., 0.2959, 0.2959, 0.2959]]],\n",
       "       device='cuda:0')"
      ]
     },
     "execution_count": 3,
     "metadata": {},
     "output_type": "execute_result"
    }
   ],
   "source": [
    "model.convert2img(gt,mag_min,mag_max)"
   ]
  },
  {
   "cell_type": "code",
   "execution_count": null,
   "metadata": {},
   "outputs": [],
   "source": []
  }
 ],
 "metadata": {
  "kernelspec": {
   "display_name": "Python 3",
   "language": "python",
   "name": "python3"
  },
  "language_info": {
   "codemirror_mode": {
    "name": "ipython",
    "version": 3
   },
   "file_extension": ".py",
   "mimetype": "text/x-python",
   "name": "python",
   "nbconvert_exporter": "python",
   "pygments_lexer": "ipython3",
   "version": "3.9.18"
  }
 },
 "nbformat": 4,
 "nbformat_minor": 2
}
